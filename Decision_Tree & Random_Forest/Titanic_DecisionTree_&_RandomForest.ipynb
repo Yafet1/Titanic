{
  "nbformat": 4,
  "nbformat_minor": 0,
  "metadata": {
    "colab": {
      "name": "Titanic_DecisionTree & RandomForest",
      "provenance": [],
      "collapsed_sections": []
    },
    "kernelspec": {
      "name": "python3",
      "display_name": "Python 3"
    },
    "language_info": {
      "name": "python"
    }
  },
  "cells": [
    {
      "cell_type": "markdown",
      "metadata": {
        "id": "9qAAcaPbYaM6"
      },
      "source": [
        "\n",
        "Yafet Abraham Mekonnen"
      ]
    },
    {
      "cell_type": "markdown",
      "metadata": {
        "id": "sBXGDnU-pA0C"
      },
      "source": [
        "# One-versus-Many: Predicting passenger survival on the *Titanic* using decision trees\n",
        "\n",
        "**Note:** The dataset is from the [Vanderbilt Biostatistics Datasets](https://hbiostat.org/data/)."
      ]
    },
    {
      "cell_type": "markdown",
      "metadata": {
        "id": "GGXW3rszFGhv"
      },
      "source": [
        "## Overview\n",
        "\n",
        "\n",
        "Using scikit-learn, develop a [`DecisionTreeClassifier`](https://scikit-learn.org/stable/modules/generated/sklearn.tree.DecisionTreeClassifier.html) classifier and a [`RandomForestClassifier`](https://scikit-learn.org/stable/modules/generated/sklearn.ensemble.RandomForestClassifier.html) classifier based on the [`titanic.csv`](https://www.ecst.csuchico.edu/~bjuliano/csci581/datasets/titanic.csv) data file and compare their performance when predicting whether a passenger will survive or not."
      ]
    },
    {
      "cell_type": "markdown",
      "metadata": {
        "id": "IHH3GSRfvNzO"
      },
      "source": [
        "## Data\n",
        "\n",
        "The file [`titanic.csv`](https://www.ecst.csuchico.edu/~bjuliano/csci581/datasets/titanic.csv) contains the details of the 1309 passengers on board and importantly, will reveal whether they survived or not.\n",
        "The dataset file details include:\n",
        "\n",
        "*   `pclass`: passenger class; proxy for socio-economic status (1st ~ upper, 2nd ~ middle, 3rd ~ lower)\n",
        "*   `survived`: survival status (0=No, 1=Yes)\n",
        "*   `name`: passenger name\n",
        "*   `sex`: passenger sex (male, female)\n",
        "*   `age`: passenger age in years (fractional if age is less than 1; if age is estimated, it is in the form xx.5)\n",
        "*   `sibsp`: number of siblings/spouses aboard (includes step-siblings; mistresses and fiances ignored)\n",
        "*   `parch`: number of parents/children aboard (parent only considers mother or father; child includes stepchildren)\n",
        "*   `ticket`: ticket number\n",
        "*   `fare`: passenger fare (in pre-1970 British pounds)\n",
        "*   `cabin`: cabin number\n",
        "*   `embarked`: port of embarkation (C=Cherbourg, Q=Queenstown, S=Southampton)\n",
        "*   `boat`: lifeboat number (if passenger boarded one)\n",
        "*   `body`: body identification number\n",
        "*   `home.dest`: passenger home/destination\n"
      ]
    },
    {
      "cell_type": "markdown",
      "metadata": {
        "id": "I25SaMi_1Pfm"
      },
      "source": [
        "# Solution"
      ]
    },
    {
      "cell_type": "code",
      "metadata": {
        "id": "4x5LDI37jYuq"
      },
      "source": [
        "import pandas as pd\n",
        "import numpy as np\n",
        "import seaborn as sns\n",
        "import matplotlib.pyplot as plt\n",
        "from sklearn.metrics import classification_report\n",
        "from sklearn.metrics import confusion_matrix\n",
        "from sklearn.model_selection import train_test_split\n",
        "from sklearn.tree import DecisionTreeClassifier, plot_tree\n",
        "from sklearn.ensemble import RandomForestClassifier\n",
        "\n",
        "\n"
      ],
      "execution_count": null,
      "outputs": []
    },
    {
      "cell_type": "code",
      "metadata": {
        "colab": {
          "base_uri": "https://localhost:8080/"
        },
        "id": "sFR-YUOpGx6A",
        "outputId": "97955436-1cb6-412d-9b56-7f65a8e1cd4d"
      },
      "source": [
        "url = \"https://www.ecst.csuchico.edu/~bjuliano/csci581/datasets/titanic.csv\"\n",
        "df = pd.read_csv(url)\n",
        "df.dtypes"
      ],
      "execution_count": null,
      "outputs": [
        {
          "output_type": "execute_result",
          "data": {
            "text/plain": [
              "pclass         int64\n",
              "survived       int64\n",
              "name          object\n",
              "sex           object\n",
              "age          float64\n",
              "sibsp          int64\n",
              "parch          int64\n",
              "ticket        object\n",
              "fare         float64\n",
              "cabin         object\n",
              "embarked      object\n",
              "boat          object\n",
              "body         float64\n",
              "home.dest     object\n",
              "dtype: object"
            ]
          },
          "metadata": {},
          "execution_count": 127
        }
      ]
    },
    {
      "cell_type": "markdown",
      "metadata": {
        "id": "z3K92faFF0h6"
      },
      "source": [
        "1.   all pertinent *exploratory data analysis* (EDA) code, visualizations, and justifications (you can reuse, perhaps with minimal modification, the work you did in your earlier Assignments);"
      ]
    },
    {
      "cell_type": "code",
      "metadata": {
        "colab": {
          "base_uri": "https://localhost:8080/"
        },
        "id": "8Axu0jZIqFeM",
        "outputId": "e186c636-a478-410b-bc28-3993b4a004ed"
      },
      "source": [
        "df.isnull().sum()\n"
      ],
      "execution_count": null,
      "outputs": [
        {
          "output_type": "execute_result",
          "data": {
            "text/plain": [
              "pclass          0\n",
              "survived        0\n",
              "name            0\n",
              "sex             0\n",
              "age           263\n",
              "sibsp           0\n",
              "parch           0\n",
              "ticket          0\n",
              "fare            1\n",
              "cabin        1014\n",
              "embarked        2\n",
              "boat          823\n",
              "body         1188\n",
              "home.dest     564\n",
              "dtype: int64"
            ]
          },
          "metadata": {},
          "execution_count": 128
        }
      ]
    },
    {
      "cell_type": "markdown",
      "metadata": {
        "id": "Oy5nqjhzGRr1"
      },
      "source": [
        "Above it can be seen that features like age, fare, cabin, embarked, boat, body, and home.dest have missing values. "
      ]
    },
    {
      "cell_type": "code",
      "metadata": {
        "colab": {
          "base_uri": "https://localhost:8080/",
          "height": 386
        },
        "id": "MYBuNQDIrSYU",
        "outputId": "45f7ae3c-a323-485c-b0b8-b96f7ae87f0d"
      },
      "source": [
        "sns.catplot(x =\"sex\", hue =\"survived\", kind =\"count\", data = df)\n",
        "\n"
      ],
      "execution_count": null,
      "outputs": [
        {
          "output_type": "execute_result",
          "data": {
            "text/plain": [
              "<seaborn.axisgrid.FacetGrid at 0x7f68c499bd90>"
            ]
          },
          "metadata": {},
          "execution_count": 129
        },
        {
          "output_type": "display_data",
          "data": {
            "image/png": "[encoded data removed]",
            "text/plain": [
              "<Figure size 410.875x360 with 1 Axes>"
            ]
          },
          "metadata": {
            "needs_background": "light"
          }
        }
      ]
    },
    {
      "cell_type": "markdown",
      "metadata": {
        "id": "L9551ylbGRi-"
      },
      "source": [
        "The graph above clearly shows that most male passengers did not survive the shipwreck comparing it with female passengers. Most of the passengers that survived were female.  "
      ]
    },
    {
      "cell_type": "code",
      "metadata": {
        "colab": {
          "base_uri": "https://localhost:8080/",
          "height": 386
        },
        "id": "Jvs7dyWNHU5z",
        "outputId": "63f5bb32-cfb5-4df7-8f30-058aa2acbb3d"
      },
      "source": [
        "sns.catplot(x ='sex', hue ='survived', kind ='count', col ='pclass', data = df)"
      ],
      "execution_count": null,
      "outputs": [
        {
          "output_type": "execute_result",
          "data": {
            "text/plain": [
              "<seaborn.axisgrid.FacetGrid at 0x7f68c499f450>"
            ]
          },
          "metadata": {},
          "execution_count": 130
        },
        {
          "output_type": "display_data",
          "data": {
            "image/png": "[encoded data removed]",
            "text/plain": [
              "<Figure size 1130.88x360 with 3 Axes>"
            ]
          },
          "metadata": {
            "needs_background": "light"
          }
        }
      ]
    },
    {
      "cell_type": "markdown",
      "metadata": {
        "id": "Sw8DLYybGRVa"
      },
      "source": [
        "The above graph also indicates that most of the male passengers did not survive. In addition, this graph provides more information about the socio-economic status where the lowest socio-economic class specifically the male having the highest death rate, and females in all socio-economic status have a lower death rate.  "
      ]
    },
    {
      "cell_type": "code",
      "metadata": {
        "id": "9ku_NHWyHYo0"
      },
      "source": [
        "mean_age = df['age'].mean()\n",
        "df['age'].fillna(mean_age,inplace=True)  # this code fill all the na with mean \n"
      ],
      "execution_count": null,
      "outputs": []
    },
    {
      "cell_type": "markdown",
      "metadata": {
        "id": "gSe1SIA2GRIL"
      },
      "source": [
        "In the code above for the age feature, there are 263 missing values I chose to replace these with the mean value. "
      ]
    },
    {
      "cell_type": "code",
      "metadata": {
        "colab": {
          "base_uri": "https://localhost:8080/",
          "height": 296
        },
        "id": "c2c-kdPgHfVV",
        "outputId": "1e982f1d-0cc6-41e3-9238-f26cd7e7da84"
      },
      "source": [
        "sns.violinplot(x =\"sex\", y =\"age\", hue =\"survived\", data = df, split = True)"
      ],
      "execution_count": null,
      "outputs": [
        {
          "output_type": "execute_result",
          "data": {
            "text/plain": [
              "<matplotlib.axes._subplots.AxesSubplot at 0x7f68c4787290>"
            ]
          },
          "metadata": {},
          "execution_count": 132
        },
        {
          "output_type": "display_data",
          "data": {
            "image/png": "[encoded data removed]",
            "text/plain": [
              "<Figure size 432x288 with 1 Axes>"
            ]
          },
          "metadata": {
            "needs_background": "light"
          }
        }
      ]
    },
    {
      "cell_type": "markdown",
      "metadata": {
        "id": "iMCVOLqRGQ5w"
      },
      "source": [
        "The graph above shows that in both genders most children within the age of 0 to 10 survived and the majority age group that did not survive is in the age between 20 to 40 in both genders, a male has more death rate in this group, but the death rate becomes less for both men and women as the age increase."
      ]
    },
    {
      "cell_type": "markdown",
      "metadata": {
        "id": "75N6M9AaHmpZ"
      },
      "source": [
        "2.   explanations/justifications for all model selection decisions;\n"
      ]
    },
    {
      "cell_type": "markdown",
      "metadata": {
        "id": "xMamzUpbHq3I"
      },
      "source": [
        "Decision Tree classifier graphical represent the possible outcomes with the use of a tree. In this dataset, we would look at the survival probability on the type of gender and social-economic class you are in. Random forest classifier consists of many decision trees and is used to predict whether a passenger will survive or not given different features. "
      ]
    },
    {
      "cell_type": "markdown",
      "metadata": {
        "id": "YbqQTme2HsN4"
      },
      "source": [
        "3.   all pertinent model diagnostics, including metrics and visualizations; and\n"
      ]
    },
    {
      "cell_type": "code",
      "metadata": {
        "id": "32J9xCUsOxT1"
      },
      "source": [
        "sex_numerical = pd.get_dummies(df['sex'],drop_first=True) # convert the sex column to numeric \n",
        "df['Sex_Numerical'] = sex_numerical   # insert into the datasets\n",
        "df.drop(['name','sex','ticket','cabin','embarked','boat','home.dest','body'], axis=1,inplace=True)  # drop all these \n",
        "df.dtypes  #check the type\n",
        "df.head() # only numberic vaules are there\n",
        "mean_fare = df['fare'].mean()  # replace all the na of fare \n",
        "df['fare'].fillna(mean_fare,inplace=True)  # this code fill all the na with mean \n",
        "\n"
      ],
      "execution_count": null,
      "outputs": []
    },
    {
      "cell_type": "code",
      "metadata": {
        "colab": {
          "base_uri": "https://localhost:8080/"
        },
        "id": "OB3EoiAwO94N",
        "outputId": "bf0d89be-6b98-401b-8301-5003d1c4b40e"
      },
      "source": [
        "corr = df.corr()\n",
        "print(df.corr().abs().nlargest(3, 'survived').index) "
      ],
      "execution_count": null,
      "outputs": [
        {
          "output_type": "stream",
          "name": "stdout",
          "text": [
            "Index(['survived', 'Sex_Numerical', 'pclass'], dtype='object')\n"
          ]
        }
      ]
    },
    {
      "cell_type": "code",
      "metadata": {
        "id": "OBn9TG5mPZmw"
      },
      "source": [
        "features_v = df[['Sex_Numerical', 'pclass']]   \n",
        "target_v = df['survived']\n"
      ],
      "execution_count": null,
      "outputs": []
    },
    {
      "cell_type": "code",
      "metadata": {
        "colab": {
          "base_uri": "https://localhost:8080/",
          "height": 435
        },
        "id": "08mfODVoH7Dz",
        "outputId": "ada9ede8-374f-4606-bef2-c6f36d178adf"
      },
      "source": [
        "titanic_model=DecisionTreeClassifier().fit(features_v, target_v)\n",
        "\n",
        "list_col = list(df.keys()) \n",
        "list_col[1]    # get the target column name in a list \n",
        "\n",
        "# Plot the decision tree\n",
        "plot_tree(titanic_model,feature_names= features_v.columns, class_names= list_col[1])\n"
      ],
      "execution_count": null,
      "outputs": [
        {
          "output_type": "execute_result",
          "data": {
            "text/plain": [
              "[Text(167.40000000000003, 190.26, 'Sex_Numerical <= 0.5\\ngini = 0.472\\nsamples = 1309\\nvalue = [809, 500]\\nclass = s'),\n",
              " Text(100.44000000000001, 135.9, 'pclass <= 2.5\\ngini = 0.397\\nsamples = 466\\nvalue = [127, 339]\\nclass = u'),\n",
              " Text(66.96000000000001, 81.53999999999999, 'pclass <= 1.5\\ngini = 0.127\\nsamples = 250\\nvalue = [17, 233]\\nclass = u'),\n",
              " Text(33.480000000000004, 27.180000000000007, 'gini = 0.067\\nsamples = 144\\nvalue = [5, 139]\\nclass = u'),\n",
              " Text(100.44000000000001, 27.180000000000007, 'gini = 0.201\\nsamples = 106\\nvalue = [12, 94]\\nclass = u'),\n",
              " Text(133.92000000000002, 81.53999999999999, 'gini = 0.5\\nsamples = 216\\nvalue = [110, 106]\\nclass = s'),\n",
              " Text(234.36, 135.9, 'pclass <= 1.5\\ngini = 0.309\\nsamples = 843\\nvalue = [682, 161]\\nclass = s'),\n",
              " Text(200.88000000000002, 81.53999999999999, 'gini = 0.449\\nsamples = 179\\nvalue = [118, 61]\\nclass = s'),\n",
              " Text(267.84000000000003, 81.53999999999999, 'pclass <= 2.5\\ngini = 0.256\\nsamples = 664\\nvalue = [564, 100]\\nclass = s'),\n",
              " Text(234.36, 27.180000000000007, 'gini = 0.25\\nsamples = 171\\nvalue = [146, 25]\\nclass = s'),\n",
              " Text(301.32000000000005, 27.180000000000007, 'gini = 0.258\\nsamples = 493\\nvalue = [418, 75]\\nclass = s')]"
            ]
          },
          "metadata": {},
          "execution_count": 136
        },
        {
          "output_type": "display_data",
          "data": {
            "image/png": "[encoded data removed]",
            "text/plain": [
              "<Figure size 432x288 with 1 Axes>"
            ]
          },
          "metadata": {
            "needs_background": "light"
          }
        }
      ]
    },
    {
      "cell_type": "markdown",
      "metadata": {
        "id": "pPrZhPXRsq0Y"
      },
      "source": [
        "The above decision tree shows the relationship of the top two highly correlated features which are the gender and pclass towards the target feature. In addition, it also shows what attributes are likely to decide the probability of surviving. The root shows the Sex_Numerical feature which indicate that it is the best feature to use to predict the likelihood of surviving.  "
      ]
    },
    {
      "cell_type": "code",
      "metadata": {
        "colab": {
          "base_uri": "https://localhost:8080/"
        },
        "id": "VtTZQCOuRXOq",
        "outputId": "2d49ced3-ad3d-4334-b1f2-13ad64fda33e"
      },
      "source": [
        "corr_r = df.corr()\n",
        "print(df.corr().abs().nlargest(5, 'survived').index) \n",
        "features_v_r = df[['Sex_Numerical', 'pclass', 'fare','parch']]   \n"
      ],
      "execution_count": null,
      "outputs": [
        {
          "output_type": "stream",
          "name": "stdout",
          "text": [
            "Index(['survived', 'Sex_Numerical', 'pclass', 'fare', 'parch'], dtype='object')\n"
          ]
        }
      ]
    },
    {
      "cell_type": "code",
      "metadata": {
        "id": "VtJVu5LsMfGP"
      },
      "source": [
        "\n",
        "train_set, test_set, train_labels, test_labels = train_test_split(features_v_r, target_v,test_size = 0.25,random_state = 1, \n",
        "                                                                  stratify = target_v) \n",
        "model = RandomForestClassifier( n_estimators=1000 )\n",
        "model.fit(train_set, train_labels)\n",
        "ypred = model.predict(test_set)\n"
      ],
      "execution_count": null,
      "outputs": []
    },
    {
      "cell_type": "code",
      "metadata": {
        "colab": {
          "base_uri": "https://localhost:8080/"
        },
        "id": "gqaNWvAZbqzm",
        "outputId": "51993d26-a161-40dd-d080-ea9fb8667d0c"
      },
      "source": [
        "print(metrics.classification_report(ypred, test_labels))\n"
      ],
      "execution_count": null,
      "outputs": [
        {
          "output_type": "stream",
          "name": "stdout",
          "text": [
            "              precision    recall  f1-score   support\n",
            "\n",
            "           0       0.85      0.82      0.84       211\n",
            "           1       0.70      0.74      0.72       117\n",
            "\n",
            "    accuracy                           0.79       328\n",
            "   macro avg       0.77      0.78      0.78       328\n",
            "weighted avg       0.80      0.79      0.79       328\n",
            "\n"
          ]
        }
      ]
    },
    {
      "cell_type": "code",
      "metadata": {
        "colab": {
          "base_uri": "https://localhost:8080/",
          "height": 296
        },
        "id": "MoZnoM65PsDp",
        "outputId": "bdce8983-796c-41cb-e382-2977c5d033aa"
      },
      "source": [
        "mat = confusion_matrix(test_labels, ypred)\n",
        "sns.heatmap(mat, square=True, annot=True, fmt='d', cbar=False)\n",
        "plt.xlabel('predicted label');\n",
        "plt.ylabel('true label')"
      ],
      "execution_count": null,
      "outputs": [
        {
          "output_type": "execute_result",
          "data": {
            "text/plain": [
              "Text(91.68, 0.5, 'true label')"
            ]
          },
          "metadata": {},
          "execution_count": 140
        },
        {
          "output_type": "display_data",
          "data": {
            "image/png": "[encoded data removed]",
            "text/plain": [
              "<Figure size 432x288 with 1 Axes>"
            ]
          },
          "metadata": {
            "needs_background": "light"
          }
        }
      ]
    },
    {
      "cell_type": "markdown",
      "metadata": {
        "id": "2eN4n_fHumBT"
      },
      "source": [
        " According to the confusion matrix table above the model predicted 173 passengers to not survive and 87 to survive. A total amount of 260 passengers were classified correctly however, a total amount of 68 was misclassified, using the four highest correlated features. "
      ]
    },
    {
      "cell_type": "code",
      "metadata": {
        "colab": {
          "base_uri": "https://localhost:8080/"
        },
        "id": "RfmaPMXgR8R6",
        "outputId": "eae9d4b0-4e8f-4afc-d7e2-58e47645a61b"
      },
      "source": [
        "# Using three best features \n",
        "corr_r = df.corr()\n",
        "print(df.corr().abs().nlargest(4, 'survived').index) \n",
        "features_v_r = df[['Sex_Numerical', 'pclass', 'fare']]\n",
        "\n",
        "train_set, test_set, train_labels, test_labels = train_test_split(features_v_r, target_v,test_size = 0.25,random_state = 1, \n",
        "                                                                  stratify = target_v) \n",
        "model = RandomForestClassifier( n_estimators=1000 )\n",
        "model.fit(train_set, train_labels)\n",
        "ypred = model.predict(test_set)\n",
        "print(metrics.classification_report(ypred, test_labels))\n",
        "\n"
      ],
      "execution_count": null,
      "outputs": [
        {
          "output_type": "stream",
          "name": "stdout",
          "text": [
            "Index(['survived', 'Sex_Numerical', 'pclass', 'fare'], dtype='object')\n",
            "              precision    recall  f1-score   support\n",
            "\n",
            "           0       0.88      0.81      0.84       221\n",
            "           1       0.66      0.78      0.72       107\n",
            "\n",
            "    accuracy                           0.80       328\n",
            "   macro avg       0.77      0.79      0.78       328\n",
            "weighted avg       0.81      0.80      0.80       328\n",
            "\n"
          ]
        }
      ]
    },
    {
      "cell_type": "code",
      "metadata": {
        "colab": {
          "base_uri": "https://localhost:8080/",
          "height": 296
        },
        "id": "oU3hpoX5TJkS",
        "outputId": "de1697a6-7c80-4f9f-dd96-e4b73205814c"
      },
      "source": [
        "mat = confusion_matrix(test_labels, ypred)\n",
        "sns.heatmap(mat, square=True, annot=True, fmt='d', cbar=False)\n",
        "plt.xlabel('predicted label');\n",
        "plt.ylabel('true label')"
      ],
      "execution_count": null,
      "outputs": [
        {
          "output_type": "execute_result",
          "data": {
            "text/plain": [
              "Text(91.68, 0.5, 'true label')"
            ]
          },
          "metadata": {},
          "execution_count": 142
        },
        {
          "output_type": "display_data",
          "data": {
            "image/png": "[encoded data removed]",
            "text/plain": [
              "<Figure size 432x288 with 1 Axes>"
            ]
          },
          "metadata": {
            "needs_background": "light"
          }
        }
      ]
    },
    {
      "cell_type": "markdown",
      "metadata": {
        "id": "_SZNzYrjxPdV"
      },
      "source": [
        " According to the confusion matrix table above the model predicted 179 passengers to not survive and 83 to survive. A total amount of 262 passengers were classified correctly however, a total amount of 66 was misclassified, using the three highest correlated features. The model now improved a little. \n"
      ]
    },
    {
      "cell_type": "code",
      "metadata": {
        "colab": {
          "base_uri": "https://localhost:8080/"
        },
        "id": "5wG0W4YBTSnc",
        "outputId": "6ae16a7c-13c6-48fe-8c4e-7e5e16456a7e"
      },
      "source": [
        "# Using two best features \n",
        "corr_r = df.corr()\n",
        "print(df.corr().abs().nlargest(3, 'survived').index) \n",
        "features_v_r = df[['Sex_Numerical', 'pclass']]\n",
        "\n",
        "train_set, test_set, train_labels, test_labels = train_test_split(features_v_r, target_v,test_size = 0.25,random_state = 1, \n",
        "                                                                  stratify = target_v) \n",
        "model = RandomForestClassifier( n_estimators=1000 )\n",
        "model.fit(train_set, train_labels)\n",
        "ypred = model.predict(test_set)\n",
        "print(metrics.classification_report(ypred, test_labels))"
      ],
      "execution_count": null,
      "outputs": [
        {
          "output_type": "stream",
          "name": "stdout",
          "text": [
            "Index(['survived', 'Sex_Numerical', 'pclass'], dtype='object')\n",
            "              precision    recall  f1-score   support\n",
            "\n",
            "           0       0.99      0.74      0.85       270\n",
            "           1       0.44      0.95      0.60        58\n",
            "\n",
            "    accuracy                           0.78       328\n",
            "   macro avg       0.71      0.84      0.72       328\n",
            "weighted avg       0.89      0.78      0.80       328\n",
            "\n"
          ]
        }
      ]
    },
    {
      "cell_type": "code",
      "metadata": {
        "colab": {
          "base_uri": "https://localhost:8080/",
          "height": 296
        },
        "id": "t5VfYKcHTcpH",
        "outputId": "72cd1f83-ee22-41e0-ce9d-a6fc37ecb593"
      },
      "source": [
        "mat = confusion_matrix(test_labels, ypred)\n",
        "sns.heatmap(mat, square=True, annot=True, fmt='d', cbar=False)\n",
        "plt.xlabel('predicted label');\n",
        "plt.ylabel('true label')"
      ],
      "execution_count": null,
      "outputs": [
        {
          "output_type": "execute_result",
          "data": {
            "text/plain": [
              "Text(91.68, 0.5, 'true label')"
            ]
          },
          "metadata": {},
          "execution_count": 144
        },
        {
          "output_type": "display_data",
          "data": {
            "image/png": "[encoded data removed]",
            "text/plain": [
              "<Figure size 432x288 with 1 Axes>"
            ]
          },
          "metadata": {
            "needs_background": "light"
          }
        }
      ]
    },
    {
      "cell_type": "markdown",
      "metadata": {
        "id": "CIAorgm-xpxZ"
      },
      "source": [
        "According to the confusion matrix table above the model predicted 200 passengers to not survive and 55 to survive. A total amount of 255 passengers were classified correctly however, a total amount of 73 was misclassified, using the two highest correlated features. The model improved greatly on the passengers that did not survive changing from 179 to 200 classifying it correctly and misclassifying was only 3 passengers where the model indicate they survived but did not. \n"
      ]
    },
    {
      "cell_type": "markdown",
      "metadata": {
        "id": "VVqHKIr91dfF"
      },
      "source": [
        "# Conclusions"
      ]
    },
    {
      "cell_type": "markdown",
      "metadata": {
        "id": "0FGXFFLdGBcG"
      },
      "source": [
        "4.   your summary and conclusions pertaining to how the two models compare against each other.\n",
        "\n",
        "---\n",
        "\n"
      ]
    },
    {
      "cell_type": "markdown",
      "metadata": {
        "id": "tq5fqG2_z3DJ"
      },
      "source": [
        "In conclusion, the fewer features that are highly correlated taken the better the model performs. This is seen in how well the confusion matrix gets as fewer features are taken with the use of a correlation matrix as a feature selection technique.  \n"
      ]
    }
  ]
}