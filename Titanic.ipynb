{
  "nbformat": 4,
  "nbformat_minor": 0,
  "metadata": {
    "colab": {
      "name": "Titanic.ipynb",
      "provenance": [],
      "collapsed_sections": [
        "sBXGDnU-pA0C",
        "GGXW3rszFGhv",
        "IHH3GSRfvNzO"
      ]
    },
    "kernelspec": {
      "name": "python3",
      "display_name": "Python 3"
    },
    "language_info": {
      "name": "python"
    }
  },
  "cells": [
    {
      "cell_type": "markdown",
      "metadata": {
        "id": "9qAAcaPbYaM6"
      },
      "source": [
        "Yafet Abraham Mekonnen"
      ]
    },
    {
      "cell_type": "markdown",
      "metadata": {
        "id": "sBXGDnU-pA0C"
      },
      "source": [
        "## Predicting passenger survival on the *Titanic*\n",
        "\n",
        "Based on the [*Titanic - Machine Learning from Disaster*](https://www.kaggle.com/c/titanic) challenge from [Kaggle](https://www.kaggle.com/).\n",
        "The dataset is from the [Vanderbilt Biostatistics Datasets](https://hbiostat.org/data/)."
      ]
    },
    {
      "cell_type": "markdown",
      "metadata": {
        "id": "GGXW3rszFGhv"
      },
      "source": [
        "## Overview\n",
        "\n",
        "In this challenge you will use machine learning to create a model that predicts which passengers survived the *Titanic* shipwreck.\n",
        "\n",
        "The sinking of the *Titanic* is one of the most infamous shipwrecks in history.\n",
        "On April 15, 1912, during her maiden voyage, the widely considered \"unsinkable\" *RMS Titanic* sank after colliding with an iceberg. Unfortunately, there weren’t enough lifeboats for everyone onboard, resulting in the death of 1502 out of 2224 passengers and crew.\n",
        "\n",
        "While there was some element of luck involved in surviving, it seems some groups of people were more likely to survive than others.\n",
        "\n",
        "In this challenge, you will build a predictive model that answers the question: \"What are the attributes of the people who were more likely to survive the sinking of the *Titanic*?\" using passenger data (*i.e.* name, age, gender, socio-economic class, *etc.*)."
      ]
    },
    {
      "cell_type": "markdown",
      "metadata": {
        "id": "IHH3GSRfvNzO"
      },
      "source": [
        "## Data\n",
        "\n",
        "The dataset file details include:\n",
        "\n",
        "*   `pclass`: passenger class; proxy for socio-economic status (1st ~ upper, 2nd ~ middle, 3rd ~ lower)\n",
        "*   `survived`: survival status (0=No, 1=Yes)\n",
        "*   `name`: passenger name\n",
        "*   `sex`: passenger sex (male, female)\n",
        "*   `age`: passenger age in years (fractional if age is less than 1; if age is estimated, it is in the form xx.5)\n",
        "*   `sibsp`: number of siblings/spouses aboard (includes step-siblings; mistresses and fiances ignored)\n",
        "*   `parch`: number of parents/children aboard (parent only considers mother or father; child includes stepchildren)\n",
        "*   `ticket`: ticket number\n",
        "*   `fare`: passenger fare (in pre-1970 British pounds)\n",
        "*   `cabin`: cabin number\n",
        "*   `embarked`: port of embarkation (C=Cherbourg, Q=Queenstown, S=Southampton)\n",
        "*   `boat`: lifeboat number (if passenger boarded one)\n",
        "*   `body`: body identification number\n",
        "*   `home.dest`: passenger home/destination\n",
        "\n"
      ]
    },
    {
      "cell_type": "markdown",
      "metadata": {
        "id": "I25SaMi_1Pfm"
      },
      "source": [
        "# Solution"
      ]
    },
    {
      "cell_type": "code",
      "metadata": {
        "id": "6HrNTx6Gpy9A"
      },
      "source": [
        "import pandas as pd\n",
        "import numpy as np\n",
        "import seaborn as sns\n",
        "import matplotlib.pyplot as plt\n",
        "from sklearn.model_selection import train_test_split\n",
        "from sklearn.metrics import classification_report\n",
        "from sklearn.linear_model import LogisticRegression\n",
        "from sklearn.metrics import confusion_matrix\n",
        "from sklearn.metrics import roc_curve, auc"
      ],
      "execution_count": 59,
      "outputs": []
    },
    {
      "cell_type": "code",
      "metadata": {
        "colab": {
          "base_uri": "https://localhost:8080/",
          "height": 0
        },
        "id": "SPDwOOKTpFBv",
        "outputId": "757c5f67-d161-4373-e72a-b52142c38635"
      },
      "source": [
        "url = \"https://www.ecst.csuchico.edu/~bjuliano/csci581/datasets/titanic.csv\"\n",
        "df = pd.read_csv(url)\n",
        "df.dtypes"
      ],
      "execution_count": 60,
      "outputs": [
        {
          "output_type": "execute_result",
          "data": {
            "text/plain": [
              "pclass         int64\n",
              "survived       int64\n",
              "name          object\n",
              "sex           object\n",
              "age          float64\n",
              "sibsp          int64\n",
              "parch          int64\n",
              "ticket        object\n",
              "fare         float64\n",
              "cabin         object\n",
              "embarked      object\n",
              "boat          object\n",
              "body         float64\n",
              "home.dest     object\n",
              "dtype: object"
            ]
          },
          "metadata": {},
          "execution_count": 60
        }
      ]
    },
    {
      "cell_type": "code",
      "metadata": {
        "colab": {
          "base_uri": "https://localhost:8080/",
          "height": 0
        },
        "id": "8Axu0jZIqFeM",
        "outputId": "17f8215d-b749-4817-de45-c7a64bf7b2dd"
      },
      "source": [
        "df.isnull().sum()\n"
      ],
      "execution_count": 61,
      "outputs": [
        {
          "output_type": "execute_result",
          "data": {
            "text/plain": [
              "pclass          0\n",
              "survived        0\n",
              "name            0\n",
              "sex             0\n",
              "age           263\n",
              "sibsp           0\n",
              "parch           0\n",
              "ticket          0\n",
              "fare            1\n",
              "cabin        1014\n",
              "embarked        2\n",
              "boat          823\n",
              "body         1188\n",
              "home.dest     564\n",
              "dtype: int64"
            ]
          },
          "metadata": {},
          "execution_count": 61
        }
      ]
    },
    {
      "cell_type": "markdown",
      "metadata": {
        "id": "IaMqxS1Yi_T3"
      },
      "source": [
        "Above it can be seen that features like age, fare, cabin, embarked, boat, body, and home.dest have missing values. "
      ]
    },
    {
      "cell_type": "code",
      "metadata": {
        "colab": {
          "base_uri": "https://localhost:8080/",
          "height": 386
        },
        "id": "MYBuNQDIrSYU",
        "outputId": "85196935-594d-45b6-d297-61c245765450"
      },
      "source": [
        "sns.catplot(x =\"sex\", hue =\"survived\", kind =\"count\", data = df)\n",
        "\n"
      ],
      "execution_count": 62,
      "outputs": [
        {
          "output_type": "execute_result",
          "data": {
            "text/plain": [
              "<seaborn.axisgrid.FacetGrid at 0x7f08ed5637d0>"
            ]
          },
          "metadata": {},
          "execution_count": 62
        },
        {
          "output_type": "display_data",
          "data": {
            "image/png": "[encoded data removed]",
            "text/plain": [
              "<Figure size 410.875x360 with 1 Axes>"
            ]
          },
          "metadata": {
            "needs_background": "light"
          }
        }
      ]
    },
    {
      "cell_type": "markdown",
      "metadata": {
        "id": "63ZgGxBSXrgK"
      },
      "source": [
        "The graph above clearly shows that most male passengers did not survive the shipwreck comparing it with female passengers. Most of the passengers that survived were female.  "
      ]
    },
    {
      "cell_type": "code",
      "metadata": {
        "colab": {
          "base_uri": "https://localhost:8080/",
          "height": 386
        },
        "id": "DMTakohqWuda",
        "outputId": "3031c3a3-b9ff-4a49-999a-61fde6bab9e2"
      },
      "source": [
        "sns.catplot(x ='sex', hue ='survived', kind ='count', col ='pclass', data = df)"
      ],
      "execution_count": 63,
      "outputs": [
        {
          "output_type": "execute_result",
          "data": {
            "text/plain": [
              "<seaborn.axisgrid.FacetGrid at 0x7f08ed469e10>"
            ]
          },
          "metadata": {},
          "execution_count": 63
        },
        {
          "output_type": "display_data",
          "data": {
            "image/png": "[encoded data removed]",
            "text/plain": [
              "<Figure size 1130.88x360 with 3 Axes>"
            ]
          },
          "metadata": {
            "needs_background": "light"
          }
        }
      ]
    },
    {
      "cell_type": "markdown",
      "metadata": {
        "id": "7ltVvW57YlNh"
      },
      "source": [
        "The above graph also indicates that most of the male passengers did not survive. In addition, this graph provides more information about the socio-economic status where the lowest socio-economic class specifically the male having the highest death rate, and females in all socio-economic status have a lower death rate.  "
      ]
    },
    {
      "cell_type": "code",
      "metadata": {
        "id": "4MJA6HzWrfN6"
      },
      "source": [
        "mean_age = df['age'].mean()\n",
        "df['age'].fillna(mean_age,inplace=True)  # this code fill all the na with mean \n"
      ],
      "execution_count": 64,
      "outputs": []
    },
    {
      "cell_type": "markdown",
      "metadata": {
        "id": "-jr1UDxUmnDx"
      },
      "source": [
        "In the code above for the age feature, there are 263 missing values I chose to replace these with the mean value. "
      ]
    },
    {
      "cell_type": "code",
      "metadata": {
        "colab": {
          "base_uri": "https://localhost:8080/",
          "height": 296
        },
        "id": "X0vVkm7CmcR-",
        "outputId": "18cc072d-35b1-42f0-9e8d-5de94c5f3841"
      },
      "source": [
        "sns.violinplot(x =\"sex\", y =\"age\", hue =\"survived\", data = df, split = True)"
      ],
      "execution_count": 65,
      "outputs": [
        {
          "output_type": "execute_result",
          "data": {
            "text/plain": [
              "<matplotlib.axes._subplots.AxesSubplot at 0x7f08ed8da710>"
            ]
          },
          "metadata": {},
          "execution_count": 65
        },
        {
          "output_type": "display_data",
          "data": {
            "image/png": "[encoded data removed]",
            "text/plain": [
              "<Figure size 432x288 with 1 Axes>"
            ]
          },
          "metadata": {
            "needs_background": "light"
          }
        }
      ]
    },
    {
      "cell_type": "markdown",
      "metadata": {
        "id": "4j5fvL3Fr33_"
      },
      "source": [
        "The graph above shows that in both genders most children within the age of 0 to 10 survived and the majority age group that did not survive is in the age between 20 to 40 in both genders, a male has more death rate in this group, but the death rate becomes less for both men and women as the age increase."
      ]
    },
    {
      "cell_type": "markdown",
      "metadata": {
        "id": "qjA5AfWbkyPL"
      },
      "source": [
        "The use of Logistic regression is used to model the probability of a certain class or event in this case survived and not survived since it is used to evaluate a binary classifier."
      ]
    },
    {
      "cell_type": "code",
      "metadata": {
        "id": "OWmF1JTzzTSK",
        "colab": {
          "base_uri": "https://localhost:8080/",
          "height": 323
        },
        "outputId": "6bda5ce9-d707-4d84-bc6a-9a084f05b240"
      },
      "source": [
        "sex_numerical = pd.get_dummies(df['sex'],drop_first=True) # convert the sex column to numeric \n",
        "df['Sex_Numerical'] = sex_numerical   # insert into the datasets\n",
        "df.head()"
      ],
      "execution_count": 66,
      "outputs": [
        {
          "output_type": "execute_result",
          "data": {
            "text/html": [
              "<div>\n",
              "<style scoped>\n",
              "    .dataframe tbody tr th:only-of-type {\n",
              "        vertical-align: middle;\n",
              "    }\n",
              "\n",
              "    .dataframe tbody tr th {\n",
              "        vertical-align: top;\n",
              "    }\n",
              "\n",
              "    .dataframe thead th {\n",
              "        text-align: right;\n",
              "    }\n",
              "</style>\n",
              "<table border=\"1\" class=\"dataframe\">\n",
              "  <thead>\n",
              "    <tr style=\"text-align: right;\">\n",
              "      <th></th>\n",
              "      <th>pclass</th>\n",
              "      <th>survived</th>\n",
              "      <th>name</th>\n",
              "      <th>sex</th>\n",
              "      <th>age</th>\n",
              "      <th>sibsp</th>\n",
              "      <th>parch</th>\n",
              "      <th>ticket</th>\n",
              "      <th>fare</th>\n",
              "      <th>cabin</th>\n",
              "      <th>embarked</th>\n",
              "      <th>boat</th>\n",
              "      <th>body</th>\n",
              "      <th>home.dest</th>\n",
              "      <th>Sex_Numerical</th>\n",
              "    </tr>\n",
              "  </thead>\n",
              "  <tbody>\n",
              "    <tr>\n",
              "      <th>0</th>\n",
              "      <td>1</td>\n",
              "      <td>1</td>\n",
              "      <td>Allen, Miss. Elisabeth Walton</td>\n",
              "      <td>female</td>\n",
              "      <td>29.00</td>\n",
              "      <td>0</td>\n",
              "      <td>0</td>\n",
              "      <td>24160</td>\n",
              "      <td>211.3375</td>\n",
              "      <td>B5</td>\n",
              "      <td>S</td>\n",
              "      <td>2</td>\n",
              "      <td>NaN</td>\n",
              "      <td>St Louis, MO</td>\n",
              "      <td>0</td>\n",
              "    </tr>\n",
              "    <tr>\n",
              "      <th>1</th>\n",
              "      <td>1</td>\n",
              "      <td>1</td>\n",
              "      <td>Allison, Master. Hudson Trevor</td>\n",
              "      <td>male</td>\n",
              "      <td>0.92</td>\n",
              "      <td>1</td>\n",
              "      <td>2</td>\n",
              "      <td>113781</td>\n",
              "      <td>151.5500</td>\n",
              "      <td>C22 C26</td>\n",
              "      <td>S</td>\n",
              "      <td>11</td>\n",
              "      <td>NaN</td>\n",
              "      <td>Montreal, PQ / Chesterville, ON</td>\n",
              "      <td>1</td>\n",
              "    </tr>\n",
              "    <tr>\n",
              "      <th>2</th>\n",
              "      <td>1</td>\n",
              "      <td>0</td>\n",
              "      <td>Allison, Miss. Helen Loraine</td>\n",
              "      <td>female</td>\n",
              "      <td>2.00</td>\n",
              "      <td>1</td>\n",
              "      <td>2</td>\n",
              "      <td>113781</td>\n",
              "      <td>151.5500</td>\n",
              "      <td>C22 C26</td>\n",
              "      <td>S</td>\n",
              "      <td>NaN</td>\n",
              "      <td>NaN</td>\n",
              "      <td>Montreal, PQ / Chesterville, ON</td>\n",
              "      <td>0</td>\n",
              "    </tr>\n",
              "    <tr>\n",
              "      <th>3</th>\n",
              "      <td>1</td>\n",
              "      <td>0</td>\n",
              "      <td>Allison, Mr. Hudson Joshua Creighton</td>\n",
              "      <td>male</td>\n",
              "      <td>30.00</td>\n",
              "      <td>1</td>\n",
              "      <td>2</td>\n",
              "      <td>113781</td>\n",
              "      <td>151.5500</td>\n",
              "      <td>C22 C26</td>\n",
              "      <td>S</td>\n",
              "      <td>NaN</td>\n",
              "      <td>135.0</td>\n",
              "      <td>Montreal, PQ / Chesterville, ON</td>\n",
              "      <td>1</td>\n",
              "    </tr>\n",
              "    <tr>\n",
              "      <th>4</th>\n",
              "      <td>1</td>\n",
              "      <td>0</td>\n",
              "      <td>Allison, Mrs. Hudson J C (Bessie Waldo Daniels)</td>\n",
              "      <td>female</td>\n",
              "      <td>25.00</td>\n",
              "      <td>1</td>\n",
              "      <td>2</td>\n",
              "      <td>113781</td>\n",
              "      <td>151.5500</td>\n",
              "      <td>C22 C26</td>\n",
              "      <td>S</td>\n",
              "      <td>NaN</td>\n",
              "      <td>NaN</td>\n",
              "      <td>Montreal, PQ / Chesterville, ON</td>\n",
              "      <td>0</td>\n",
              "    </tr>\n",
              "  </tbody>\n",
              "</table>\n",
              "</div>"
            ],
            "text/plain": [
              "   pclass  survived  ...                        home.dest Sex_Numerical\n",
              "0       1         1  ...                     St Louis, MO             0\n",
              "1       1         1  ...  Montreal, PQ / Chesterville, ON             1\n",
              "2       1         0  ...  Montreal, PQ / Chesterville, ON             0\n",
              "3       1         0  ...  Montreal, PQ / Chesterville, ON             1\n",
              "4       1         0  ...  Montreal, PQ / Chesterville, ON             0\n",
              "\n",
              "[5 rows x 15 columns]"
            ]
          },
          "metadata": {},
          "execution_count": 66
        }
      ]
    },
    {
      "cell_type": "markdown",
      "metadata": {
        "id": "oQBY2fNoqH7s"
      },
      "source": [
        "The above code changes the sex features from categorical variable to numerical variable because I want to use the sex features in the logistic regression model. Where a female is represented as 0 and a male is represented as 1.  "
      ]
    },
    {
      "cell_type": "code",
      "metadata": {
        "id": "53uzf1jszhoD"
      },
      "source": [
        "df.drop(['name','sex','ticket','cabin','embarked','boat','home.dest','body'], axis=1,inplace=True)  # drop all these \n"
      ],
      "execution_count": 67,
      "outputs": []
    },
    {
      "cell_type": "markdown",
      "metadata": {
        "id": "pizCsR069fvd"
      },
      "source": [
        "I chose to drop these features above because they would not help with the use of creating a logistic regression model."
      ]
    },
    {
      "cell_type": "code",
      "metadata": {
        "colab": {
          "base_uri": "https://localhost:8080/",
          "height": 204
        },
        "id": "ssdbMU-Op51F",
        "outputId": "8a85efaa-f463-4545-bf21-521c29c0ce4b"
      },
      "source": [
        "df.dtypes  #check the type\n",
        "df.head() # only numberic vaules are there \n"
      ],
      "execution_count": 68,
      "outputs": [
        {
          "output_type": "execute_result",
          "data": {
            "text/html": [
              "<div>\n",
              "<style scoped>\n",
              "    .dataframe tbody tr th:only-of-type {\n",
              "        vertical-align: middle;\n",
              "    }\n",
              "\n",
              "    .dataframe tbody tr th {\n",
              "        vertical-align: top;\n",
              "    }\n",
              "\n",
              "    .dataframe thead th {\n",
              "        text-align: right;\n",
              "    }\n",
              "</style>\n",
              "<table border=\"1\" class=\"dataframe\">\n",
              "  <thead>\n",
              "    <tr style=\"text-align: right;\">\n",
              "      <th></th>\n",
              "      <th>pclass</th>\n",
              "      <th>survived</th>\n",
              "      <th>age</th>\n",
              "      <th>sibsp</th>\n",
              "      <th>parch</th>\n",
              "      <th>fare</th>\n",
              "      <th>Sex_Numerical</th>\n",
              "    </tr>\n",
              "  </thead>\n",
              "  <tbody>\n",
              "    <tr>\n",
              "      <th>0</th>\n",
              "      <td>1</td>\n",
              "      <td>1</td>\n",
              "      <td>29.00</td>\n",
              "      <td>0</td>\n",
              "      <td>0</td>\n",
              "      <td>211.3375</td>\n",
              "      <td>0</td>\n",
              "    </tr>\n",
              "    <tr>\n",
              "      <th>1</th>\n",
              "      <td>1</td>\n",
              "      <td>1</td>\n",
              "      <td>0.92</td>\n",
              "      <td>1</td>\n",
              "      <td>2</td>\n",
              "      <td>151.5500</td>\n",
              "      <td>1</td>\n",
              "    </tr>\n",
              "    <tr>\n",
              "      <th>2</th>\n",
              "      <td>1</td>\n",
              "      <td>0</td>\n",
              "      <td>2.00</td>\n",
              "      <td>1</td>\n",
              "      <td>2</td>\n",
              "      <td>151.5500</td>\n",
              "      <td>0</td>\n",
              "    </tr>\n",
              "    <tr>\n",
              "      <th>3</th>\n",
              "      <td>1</td>\n",
              "      <td>0</td>\n",
              "      <td>30.00</td>\n",
              "      <td>1</td>\n",
              "      <td>2</td>\n",
              "      <td>151.5500</td>\n",
              "      <td>1</td>\n",
              "    </tr>\n",
              "    <tr>\n",
              "      <th>4</th>\n",
              "      <td>1</td>\n",
              "      <td>0</td>\n",
              "      <td>25.00</td>\n",
              "      <td>1</td>\n",
              "      <td>2</td>\n",
              "      <td>151.5500</td>\n",
              "      <td>0</td>\n",
              "    </tr>\n",
              "  </tbody>\n",
              "</table>\n",
              "</div>"
            ],
            "text/plain": [
              "   pclass  survived    age  sibsp  parch      fare  Sex_Numerical\n",
              "0       1         1  29.00      0      0  211.3375              0\n",
              "1       1         1   0.92      1      2  151.5500              1\n",
              "2       1         0   2.00      1      2  151.5500              0\n",
              "3       1         0  30.00      1      2  151.5500              1\n",
              "4       1         0  25.00      1      2  151.5500              0"
            ]
          },
          "metadata": {},
          "execution_count": 68
        }
      ]
    },
    {
      "cell_type": "code",
      "metadata": {
        "id": "D9Va1wVd00Hl"
      },
      "source": [
        "mean_fare = df['fare'].mean()  # replace all the na of fare \n",
        "df['fare'].fillna(mean_fare,inplace=True)  # this code fill all the na with mean \n",
        "\n"
      ],
      "execution_count": 69,
      "outputs": []
    },
    {
      "cell_type": "markdown",
      "metadata": {
        "id": "hzhZF1SrheyE"
      },
      "source": [
        "Since there was 1 fare missing value I chose to replace that with the mean value"
      ]
    },
    {
      "cell_type": "code",
      "metadata": {
        "colab": {
          "base_uri": "https://localhost:8080/",
          "height": 0
        },
        "id": "laglFts6ecOc",
        "outputId": "6a7d8743-7075-493c-acc1-122baac439b0"
      },
      "source": [
        "corr = df.corr()\n",
        "print(df.corr().abs().nlargest(5, 'survived').index) \n"
      ],
      "execution_count": 70,
      "outputs": [
        {
          "output_type": "stream",
          "name": "stdout",
          "text": [
            "Index(['survived', 'Sex_Numerical', 'pclass', 'fare', 'parch'], dtype='object')\n"
          ]
        }
      ]
    },
    {
      "cell_type": "markdown",
      "metadata": {
        "id": "KvccKFvg_HyD"
      },
      "source": [
        "In the code above it print the top 4 feature with the highest correlation with survived feature using the correlation matrix. The correlation matrix above indicates that the top 4 features which are sex_numberical ,  pclass, fare, and parch have the highest correlation with survived. Which means these 4 are the best feature to use to create the model \n",
        "\n",
        "\n"
      ]
    },
    {
      "cell_type": "code",
      "metadata": {
        "colab": {
          "base_uri": "https://localhost:8080/",
          "height": 419
        },
        "id": "lt_2wn97hKUX",
        "outputId": "efb31d64-8f49-478b-dfb5-b1e6ef8d32e1"
      },
      "source": [
        "Indep_v = df[['Sex_Numerical', 'pclass', 'fare', 'parch']]   \n",
        "dep_v = df['survived']\n",
        "Indep_v"
      ],
      "execution_count": 71,
      "outputs": [
        {
          "output_type": "execute_result",
          "data": {
            "text/html": [
              "<div>\n",
              "<style scoped>\n",
              "    .dataframe tbody tr th:only-of-type {\n",
              "        vertical-align: middle;\n",
              "    }\n",
              "\n",
              "    .dataframe tbody tr th {\n",
              "        vertical-align: top;\n",
              "    }\n",
              "\n",
              "    .dataframe thead th {\n",
              "        text-align: right;\n",
              "    }\n",
              "</style>\n",
              "<table border=\"1\" class=\"dataframe\">\n",
              "  <thead>\n",
              "    <tr style=\"text-align: right;\">\n",
              "      <th></th>\n",
              "      <th>Sex_Numerical</th>\n",
              "      <th>pclass</th>\n",
              "      <th>fare</th>\n",
              "      <th>parch</th>\n",
              "    </tr>\n",
              "  </thead>\n",
              "  <tbody>\n",
              "    <tr>\n",
              "      <th>0</th>\n",
              "      <td>0</td>\n",
              "      <td>1</td>\n",
              "      <td>211.3375</td>\n",
              "      <td>0</td>\n",
              "    </tr>\n",
              "    <tr>\n",
              "      <th>1</th>\n",
              "      <td>1</td>\n",
              "      <td>1</td>\n",
              "      <td>151.5500</td>\n",
              "      <td>2</td>\n",
              "    </tr>\n",
              "    <tr>\n",
              "      <th>2</th>\n",
              "      <td>0</td>\n",
              "      <td>1</td>\n",
              "      <td>151.5500</td>\n",
              "      <td>2</td>\n",
              "    </tr>\n",
              "    <tr>\n",
              "      <th>3</th>\n",
              "      <td>1</td>\n",
              "      <td>1</td>\n",
              "      <td>151.5500</td>\n",
              "      <td>2</td>\n",
              "    </tr>\n",
              "    <tr>\n",
              "      <th>4</th>\n",
              "      <td>0</td>\n",
              "      <td>1</td>\n",
              "      <td>151.5500</td>\n",
              "      <td>2</td>\n",
              "    </tr>\n",
              "    <tr>\n",
              "      <th>...</th>\n",
              "      <td>...</td>\n",
              "      <td>...</td>\n",
              "      <td>...</td>\n",
              "      <td>...</td>\n",
              "    </tr>\n",
              "    <tr>\n",
              "      <th>1304</th>\n",
              "      <td>0</td>\n",
              "      <td>3</td>\n",
              "      <td>14.4542</td>\n",
              "      <td>0</td>\n",
              "    </tr>\n",
              "    <tr>\n",
              "      <th>1305</th>\n",
              "      <td>0</td>\n",
              "      <td>3</td>\n",
              "      <td>14.4542</td>\n",
              "      <td>0</td>\n",
              "    </tr>\n",
              "    <tr>\n",
              "      <th>1306</th>\n",
              "      <td>1</td>\n",
              "      <td>3</td>\n",
              "      <td>7.2250</td>\n",
              "      <td>0</td>\n",
              "    </tr>\n",
              "    <tr>\n",
              "      <th>1307</th>\n",
              "      <td>1</td>\n",
              "      <td>3</td>\n",
              "      <td>7.2250</td>\n",
              "      <td>0</td>\n",
              "    </tr>\n",
              "    <tr>\n",
              "      <th>1308</th>\n",
              "      <td>1</td>\n",
              "      <td>3</td>\n",
              "      <td>7.8750</td>\n",
              "      <td>0</td>\n",
              "    </tr>\n",
              "  </tbody>\n",
              "</table>\n",
              "<p>1309 rows × 4 columns</p>\n",
              "</div>"
            ],
            "text/plain": [
              "      Sex_Numerical  pclass      fare  parch\n",
              "0                 0       1  211.3375      0\n",
              "1                 1       1  151.5500      2\n",
              "2                 0       1  151.5500      2\n",
              "3                 1       1  151.5500      2\n",
              "4                 0       1  151.5500      2\n",
              "...             ...     ...       ...    ...\n",
              "1304              0       3   14.4542      0\n",
              "1305              0       3   14.4542      0\n",
              "1306              1       3    7.2250      0\n",
              "1307              1       3    7.2250      0\n",
              "1308              1       3    7.8750      0\n",
              "\n",
              "[1309 rows x 4 columns]"
            ]
          },
          "metadata": {},
          "execution_count": 71
        }
      ]
    },
    {
      "cell_type": "code",
      "metadata": {
        "colab": {
          "base_uri": "https://localhost:8080/",
          "height": 0
        },
        "id": "OYQt2rsu3-Oq",
        "outputId": "f1a29a80-7d7b-4af1-c8a1-1e1e8835ccbf"
      },
      "source": [
        "Indep_train,Indep_test,dep_train,dep_test = train_test_split(Indep_v, dep_v,test_size = 0.33,random_state = 42) \n",
        "lr=LogisticRegression()\n",
        "lr.fit(Indep_train,dep_train)\n",
        "\n",
        "\n",
        "\n"
      ],
      "execution_count": 72,
      "outputs": [
        {
          "output_type": "execute_result",
          "data": {
            "text/plain": [
              "LogisticRegression(C=1.0, class_weight=None, dual=False, fit_intercept=True,\n",
              "                   intercept_scaling=1, l1_ratio=None, max_iter=100,\n",
              "                   multi_class='auto', n_jobs=None, penalty='l2',\n",
              "                   random_state=None, solver='lbfgs', tol=0.0001, verbose=0,\n",
              "                   warm_start=False)"
            ]
          },
          "metadata": {},
          "execution_count": 72
        }
      ]
    },
    {
      "cell_type": "code",
      "metadata": {
        "colab": {
          "base_uri": "https://localhost:8080/",
          "height": 111
        },
        "id": "OmJxeVqM71YV",
        "outputId": "d3a48269-50fd-4618-d460-8240b56e8350"
      },
      "source": [
        "predict = lr.predict(Indep_test)\n",
        "t = confusion_matrix(dep_test,predict)\n",
        "#creating table from our confusion_matrix\n",
        "pd.DataFrame(t,columns=['Predict_no', 'Predict_yes'],index= ['Actual_no', 'Actual_yes'])\n"
      ],
      "execution_count": 73,
      "outputs": [
        {
          "output_type": "execute_result",
          "data": {
            "text/html": [
              "<div>\n",
              "<style scoped>\n",
              "    .dataframe tbody tr th:only-of-type {\n",
              "        vertical-align: middle;\n",
              "    }\n",
              "\n",
              "    .dataframe tbody tr th {\n",
              "        vertical-align: top;\n",
              "    }\n",
              "\n",
              "    .dataframe thead th {\n",
              "        text-align: right;\n",
              "    }\n",
              "</style>\n",
              "<table border=\"1\" class=\"dataframe\">\n",
              "  <thead>\n",
              "    <tr style=\"text-align: right;\">\n",
              "      <th></th>\n",
              "      <th>Predict_no</th>\n",
              "      <th>Predict_yes</th>\n",
              "    </tr>\n",
              "  </thead>\n",
              "  <tbody>\n",
              "    <tr>\n",
              "      <th>Actual_no</th>\n",
              "      <td>222</td>\n",
              "      <td>32</td>\n",
              "    </tr>\n",
              "    <tr>\n",
              "      <th>Actual_yes</th>\n",
              "      <td>59</td>\n",
              "      <td>119</td>\n",
              "    </tr>\n",
              "  </tbody>\n",
              "</table>\n",
              "</div>"
            ],
            "text/plain": [
              "            Predict_no  Predict_yes\n",
              "Actual_no          222           32\n",
              "Actual_yes          59          119"
            ]
          },
          "metadata": {},
          "execution_count": 73
        }
      ]
    },
    {
      "cell_type": "markdown",
      "metadata": {
        "id": "p6Tp32Q7-NMn"
      },
      "source": [
        " According to the confusion matrix table above the model predicted 222 passengers to not survive and 119 to survive which matches with the actual but comparing with the actual data 59 passengers were predicted not to survive however they survived, and 32 were predicted to survive but did not.  "
      ]
    },
    {
      "cell_type": "code",
      "metadata": {
        "colab": {
          "base_uri": "https://localhost:8080/",
          "height": 0
        },
        "id": "wIaEYFWMEQst",
        "outputId": "6809a56f-932a-41c2-9bcf-198b093cecad"
      },
      "source": [
        "report = classification_report(dep_test,predict)\n",
        "print(report)"
      ],
      "execution_count": 74,
      "outputs": [
        {
          "output_type": "stream",
          "name": "stdout",
          "text": [
            "              precision    recall  f1-score   support\n",
            "\n",
            "           0       0.79      0.87      0.83       254\n",
            "           1       0.79      0.67      0.72       178\n",
            "\n",
            "    accuracy                           0.79       432\n",
            "   macro avg       0.79      0.77      0.78       432\n",
            "weighted avg       0.79      0.79      0.79       432\n",
            "\n"
          ]
        }
      ]
    },
    {
      "cell_type": "code",
      "metadata": {
        "colab": {
          "base_uri": "https://localhost:8080/",
          "height": 295
        },
        "id": "mtuiXmXyNUBP",
        "outputId": "26d0d074-44d1-432d-bfc6-a459ba84feab"
      },
      "source": [
        "probs = lr.predict_proba(Indep_test)\n",
        "preds = probs[:,1]\n",
        "fpr, tpr, threshold = roc_curve(dep_test, preds)\n",
        "roc_auc = auc(fpr, tpr)\n",
        "plt.plot(fpr, tpr, 'b', label = 'AUC = %0.2f' % roc_auc)\n",
        "plt.plot([0, 1], [0, 1],'r--')\n",
        "plt.xlim([0, 1])\n",
        "plt.ylim([0, 1])\n",
        "plt.ylabel('True Positive Rate (TPR)')\n",
        "plt.xlabel('False Positive Rate (FPR)')\n",
        "plt.title('Receiver Operating Characteristic (ROC)')\n",
        "plt.legend(loc = 'lower right')\n",
        "plt.show()"
      ],
      "execution_count": 75,
      "outputs": [
        {
          "output_type": "display_data",
          "data": {
            "image/png": "[encoded data removed]",
            "text/plain": [
              "<Figure size 432x288 with 1 Axes>"
            ]
          },
          "metadata": {
            "needs_background": "light"
          }
        }
      ]
    },
    {
      "cell_type": "markdown",
      "metadata": {
        "id": "_5vGhpQkgwHx"
      },
      "source": [
        "Using the highest four features from the correlation matrix 82% of area under the curve was calculated by plotting the Receiver Operating Characteristic (ROC) using the random classifier where the model was above it. "
      ]
    },
    {
      "cell_type": "code",
      "metadata": {
        "colab": {
          "base_uri": "https://localhost:8080/",
          "height": 436
        },
        "id": "b3zPfkgJipvK",
        "outputId": "48c11a0d-f29f-4db5-fc23-9ed07d64156a"
      },
      "source": [
        "print(df.corr().abs().nlargest(4, 'survived').index) \n",
        "#trying with three highest corrleated features \n",
        "Indep_v = df[['pclass','Sex_Numerical', 'fare']]   \n",
        "dep_v = df['survived']\n",
        "Indep_v"
      ],
      "execution_count": 76,
      "outputs": [
        {
          "output_type": "stream",
          "name": "stdout",
          "text": [
            "Index(['survived', 'Sex_Numerical', 'pclass', 'fare'], dtype='object')\n"
          ]
        },
        {
          "output_type": "execute_result",
          "data": {
            "text/html": [
              "<div>\n",
              "<style scoped>\n",
              "    .dataframe tbody tr th:only-of-type {\n",
              "        vertical-align: middle;\n",
              "    }\n",
              "\n",
              "    .dataframe tbody tr th {\n",
              "        vertical-align: top;\n",
              "    }\n",
              "\n",
              "    .dataframe thead th {\n",
              "        text-align: right;\n",
              "    }\n",
              "</style>\n",
              "<table border=\"1\" class=\"dataframe\">\n",
              "  <thead>\n",
              "    <tr style=\"text-align: right;\">\n",
              "      <th></th>\n",
              "      <th>pclass</th>\n",
              "      <th>Sex_Numerical</th>\n",
              "      <th>fare</th>\n",
              "    </tr>\n",
              "  </thead>\n",
              "  <tbody>\n",
              "    <tr>\n",
              "      <th>0</th>\n",
              "      <td>1</td>\n",
              "      <td>0</td>\n",
              "      <td>211.3375</td>\n",
              "    </tr>\n",
              "    <tr>\n",
              "      <th>1</th>\n",
              "      <td>1</td>\n",
              "      <td>1</td>\n",
              "      <td>151.5500</td>\n",
              "    </tr>\n",
              "    <tr>\n",
              "      <th>2</th>\n",
              "      <td>1</td>\n",
              "      <td>0</td>\n",
              "      <td>151.5500</td>\n",
              "    </tr>\n",
              "    <tr>\n",
              "      <th>3</th>\n",
              "      <td>1</td>\n",
              "      <td>1</td>\n",
              "      <td>151.5500</td>\n",
              "    </tr>\n",
              "    <tr>\n",
              "      <th>4</th>\n",
              "      <td>1</td>\n",
              "      <td>0</td>\n",
              "      <td>151.5500</td>\n",
              "    </tr>\n",
              "    <tr>\n",
              "      <th>...</th>\n",
              "      <td>...</td>\n",
              "      <td>...</td>\n",
              "      <td>...</td>\n",
              "    </tr>\n",
              "    <tr>\n",
              "      <th>1304</th>\n",
              "      <td>3</td>\n",
              "      <td>0</td>\n",
              "      <td>14.4542</td>\n",
              "    </tr>\n",
              "    <tr>\n",
              "      <th>1305</th>\n",
              "      <td>3</td>\n",
              "      <td>0</td>\n",
              "      <td>14.4542</td>\n",
              "    </tr>\n",
              "    <tr>\n",
              "      <th>1306</th>\n",
              "      <td>3</td>\n",
              "      <td>1</td>\n",
              "      <td>7.2250</td>\n",
              "    </tr>\n",
              "    <tr>\n",
              "      <th>1307</th>\n",
              "      <td>3</td>\n",
              "      <td>1</td>\n",
              "      <td>7.2250</td>\n",
              "    </tr>\n",
              "    <tr>\n",
              "      <th>1308</th>\n",
              "      <td>3</td>\n",
              "      <td>1</td>\n",
              "      <td>7.8750</td>\n",
              "    </tr>\n",
              "  </tbody>\n",
              "</table>\n",
              "<p>1309 rows × 3 columns</p>\n",
              "</div>"
            ],
            "text/plain": [
              "      pclass  Sex_Numerical      fare\n",
              "0          1              0  211.3375\n",
              "1          1              1  151.5500\n",
              "2          1              0  151.5500\n",
              "3          1              1  151.5500\n",
              "4          1              0  151.5500\n",
              "...      ...            ...       ...\n",
              "1304       3              0   14.4542\n",
              "1305       3              0   14.4542\n",
              "1306       3              1    7.2250\n",
              "1307       3              1    7.2250\n",
              "1308       3              1    7.8750\n",
              "\n",
              "[1309 rows x 3 columns]"
            ]
          },
          "metadata": {},
          "execution_count": 76
        }
      ]
    },
    {
      "cell_type": "markdown",
      "metadata": {
        "id": "VQkjXKsEjGYO"
      },
      "source": [
        "Lets now try to make our model  better by only taking the top three to get a higher area of the curve"
      ]
    },
    {
      "cell_type": "code",
      "metadata": {
        "colab": {
          "base_uri": "https://localhost:8080/",
          "height": 111
        },
        "id": "_C38SYkjirGK",
        "outputId": "6407d920-c730-4ca7-9444-2080da0c485d"
      },
      "source": [
        "Indep_train,Indep_test,dep_train,dep_test = train_test_split(Indep_v, dep_v,test_size = 0.33,random_state = 42) \n",
        "lr.fit(Indep_train,dep_train)\n",
        "predict = lr.predict(Indep_test)\n",
        "\n",
        "t = confusion_matrix(dep_test,predict)\n",
        "pd.DataFrame(t,columns=['Predict_no', 'Predict_yes'],index= ['Actual_no', 'Actual_yes'])\n",
        "\n"
      ],
      "execution_count": 77,
      "outputs": [
        {
          "output_type": "execute_result",
          "data": {
            "text/html": [
              "<div>\n",
              "<style scoped>\n",
              "    .dataframe tbody tr th:only-of-type {\n",
              "        vertical-align: middle;\n",
              "    }\n",
              "\n",
              "    .dataframe tbody tr th {\n",
              "        vertical-align: top;\n",
              "    }\n",
              "\n",
              "    .dataframe thead th {\n",
              "        text-align: right;\n",
              "    }\n",
              "</style>\n",
              "<table border=\"1\" class=\"dataframe\">\n",
              "  <thead>\n",
              "    <tr style=\"text-align: right;\">\n",
              "      <th></th>\n",
              "      <th>Predict_no</th>\n",
              "      <th>Predict_yes</th>\n",
              "    </tr>\n",
              "  </thead>\n",
              "  <tbody>\n",
              "    <tr>\n",
              "      <th>Actual_no</th>\n",
              "      <td>222</td>\n",
              "      <td>32</td>\n",
              "    </tr>\n",
              "    <tr>\n",
              "      <th>Actual_yes</th>\n",
              "      <td>58</td>\n",
              "      <td>120</td>\n",
              "    </tr>\n",
              "  </tbody>\n",
              "</table>\n",
              "</div>"
            ],
            "text/plain": [
              "            Predict_no  Predict_yes\n",
              "Actual_no          222           32\n",
              "Actual_yes          58          120"
            ]
          },
          "metadata": {},
          "execution_count": 77
        }
      ]
    },
    {
      "cell_type": "markdown",
      "metadata": {
        "id": "ttSgbfkBjSww"
      },
      "source": [
        "Now the confusion matrix got a little better by changing the predict yes and actual yes from 119 to 120 and predict no and actual yes from 59 and 58 \n"
      ]
    },
    {
      "cell_type": "code",
      "metadata": {
        "colab": {
          "base_uri": "https://localhost:8080/",
          "height": 295
        },
        "id": "HAUJ7VgujfXD",
        "outputId": "e9f0442f-333e-42ab-9843-319f1e18ec9c"
      },
      "source": [
        "probs = lr.predict_proba(Indep_test)\n",
        "preds = probs[:,1]\n",
        "fpr, tpr, threshold = roc_curve(dep_test, preds)\n",
        "roc_auc = auc(fpr, tpr)\n",
        "plt.plot(fpr, tpr, 'b', label = 'AUC = %0.2f' % roc_auc)\n",
        "plt.plot([0, 1], [0, 1],'r--')\n",
        "plt.xlim([0, 1])\n",
        "plt.ylim([0, 1])\n",
        "plt.ylabel('True Positive Rate (TPR)')\n",
        "plt.xlabel('False Positive Rate (FPR)')\n",
        "plt.title('Receiver Operating Characteristic (ROC)')\n",
        "plt.legend(loc = 'lower right')\n",
        "plt.show()"
      ],
      "execution_count": 78,
      "outputs": [
        {
          "output_type": "display_data",
          "data": {
            "image/png": "[encoded data removed]",
            "text/plain": [
              "<Figure size 432x288 with 1 Axes>"
            ]
          },
          "metadata": {
            "needs_background": "light"
          }
        }
      ]
    },
    {
      "cell_type": "markdown",
      "metadata": {
        "id": "ih-pF53RiGdn"
      },
      "source": [
        "The area under the curve now increased by one percent when I only chose the top 3 highest correlated features using the correlation matrix "
      ]
    },
    {
      "cell_type": "code",
      "metadata": {
        "colab": {
          "base_uri": "https://localhost:8080/",
          "height": 0
        },
        "id": "CIFHABKsztNm",
        "outputId": "cdad4a08-9967-486b-b0c2-03173c5a7123"
      },
      "source": [
        "Inter_three_feat = lr.intercept_\n",
        "Coeff_three_feat = lr.coef_\n",
        "\n",
        "print(\"Intercept \" + str(Inter_three_feat))\n",
        "print(\"Intercept of first \" + str(Inter_three_feat[0]))\n",
        "\n",
        "print(\"All three Coefficent \" + str(Coeff_three_feat))\n",
        "print(\"First Coefficent \" + str(Coeff_three_feat[0][0]))\n",
        "print(\"Second  Coefficent \" + str(Coeff_three_feat[0][1]))\n",
        "print(\"Third Coefficent \"+ str(Coeff_three_feat[0][2]))"
      ],
      "execution_count": 79,
      "outputs": [
        {
          "output_type": "stream",
          "name": "stdout",
          "text": [
            "Intercept [2.54916363]\n",
            "Intercept of first 2.549163632076046\n",
            "All three Coefficent [[-7.95853886e-01 -2.34932982e+00  2.26253195e-03]]\n",
            "First Coefficent -0.7958538863181297\n",
            "Second  Coefficent -2.3493298168120718\n",
            "Third Coefficent 0.0022625319496057204\n"
          ]
        }
      ]
    },
    {
      "cell_type": "markdown",
      "metadata": {
        "id": "xUIdosxbD7k1"
      },
      "source": [
        "We have three Coefficients since I chose the three features with the highest correlation with survival using the correlation metrics. "
      ]
    },
    {
      "cell_type": "code",
      "metadata": {
        "colab": {
          "base_uri": "https://localhost:8080/",
          "height": 0
        },
        "id": "kWjelDgQ_teE",
        "outputId": "b2e6a030-0732-4445-ef93-0a2c2ab872e2"
      },
      "source": [
        "def sigmoid_three(p_class_v_three,sex_numerical_v_three,fare_v_three):\n",
        "    return (1 / (1 +\n",
        "        np.exp(-(Inter_three_feat[0] +\n",
        "        ( Coeff_three_feat[0][0]*p_class_v_three) +(Coeff_three_feat[0][1]*sex_numerical_v_three) + (Coeff_three_feat[0][2] * fare_v_three)))))\n",
        "\n",
        "sigmoid_three(3,1,4)*100 # lower social-econmic class and male who paid 4 British pounds \n",
        "\n"
      ],
      "execution_count": 80,
      "outputs": [
        {
          "output_type": "execute_result",
          "data": {
            "text/plain": [
              "10.168164501992493"
            ]
          },
          "metadata": {},
          "execution_count": 80
        }
      ]
    },
    {
      "cell_type": "markdown",
      "metadata": {
        "id": "yuQy1lMMBVM0"
      },
      "source": [
        "The above result shows that males in lower social-economic class who paid 4 British pounds probability of surviving which is around 10.2% "
      ]
    },
    {
      "cell_type": "code",
      "metadata": {
        "colab": {
          "base_uri": "https://localhost:8080/",
          "height": 0
        },
        "id": "wImSE6ozBnFv",
        "outputId": "276847b6-5a2d-4633-b0f7-39833f57adc7"
      },
      "source": [
        "sigmoid_three(1,0,500)*100  # high social ecominc class and female who paid 500 pound "
      ],
      "execution_count": 81,
      "outputs": [
        {
          "output_type": "execute_result",
          "data": {
            "text/plain": [
              "94.70786714619929"
            ]
          },
          "metadata": {},
          "execution_count": 81
        }
      ]
    },
    {
      "cell_type": "markdown",
      "metadata": {
        "id": "5JsTAPqNCIro"
      },
      "source": [
        "The above result shows that female in high economic class who paid 500 pound has 94.7% of surviving "
      ]
    },
    {
      "cell_type": "code",
      "metadata": {
        "colab": {
          "base_uri": "https://localhost:8080/",
          "height": 436
        },
        "id": "VUQUmtlYcFU7",
        "outputId": "b98e711d-425f-44ce-bd6d-8c0ee133e3c8"
      },
      "source": [
        "print(df.corr().abs().nlargest(3, 'survived').index)                                                       \n",
        "Indep_v = df[['pclass','Sex_Numerical']]              \n",
        "dep_v = df['survived']\n",
        "Indep_v"
      ],
      "execution_count": 82,
      "outputs": [
        {
          "output_type": "stream",
          "name": "stdout",
          "text": [
            "Index(['survived', 'Sex_Numerical', 'pclass'], dtype='object')\n"
          ]
        },
        {
          "output_type": "execute_result",
          "data": {
            "text/html": [
              "<div>\n",
              "<style scoped>\n",
              "    .dataframe tbody tr th:only-of-type {\n",
              "        vertical-align: middle;\n",
              "    }\n",
              "\n",
              "    .dataframe tbody tr th {\n",
              "        vertical-align: top;\n",
              "    }\n",
              "\n",
              "    .dataframe thead th {\n",
              "        text-align: right;\n",
              "    }\n",
              "</style>\n",
              "<table border=\"1\" class=\"dataframe\">\n",
              "  <thead>\n",
              "    <tr style=\"text-align: right;\">\n",
              "      <th></th>\n",
              "      <th>pclass</th>\n",
              "      <th>Sex_Numerical</th>\n",
              "    </tr>\n",
              "  </thead>\n",
              "  <tbody>\n",
              "    <tr>\n",
              "      <th>0</th>\n",
              "      <td>1</td>\n",
              "      <td>0</td>\n",
              "    </tr>\n",
              "    <tr>\n",
              "      <th>1</th>\n",
              "      <td>1</td>\n",
              "      <td>1</td>\n",
              "    </tr>\n",
              "    <tr>\n",
              "      <th>2</th>\n",
              "      <td>1</td>\n",
              "      <td>0</td>\n",
              "    </tr>\n",
              "    <tr>\n",
              "      <th>3</th>\n",
              "      <td>1</td>\n",
              "      <td>1</td>\n",
              "    </tr>\n",
              "    <tr>\n",
              "      <th>4</th>\n",
              "      <td>1</td>\n",
              "      <td>0</td>\n",
              "    </tr>\n",
              "    <tr>\n",
              "      <th>...</th>\n",
              "      <td>...</td>\n",
              "      <td>...</td>\n",
              "    </tr>\n",
              "    <tr>\n",
              "      <th>1304</th>\n",
              "      <td>3</td>\n",
              "      <td>0</td>\n",
              "    </tr>\n",
              "    <tr>\n",
              "      <th>1305</th>\n",
              "      <td>3</td>\n",
              "      <td>0</td>\n",
              "    </tr>\n",
              "    <tr>\n",
              "      <th>1306</th>\n",
              "      <td>3</td>\n",
              "      <td>1</td>\n",
              "    </tr>\n",
              "    <tr>\n",
              "      <th>1307</th>\n",
              "      <td>3</td>\n",
              "      <td>1</td>\n",
              "    </tr>\n",
              "    <tr>\n",
              "      <th>1308</th>\n",
              "      <td>3</td>\n",
              "      <td>1</td>\n",
              "    </tr>\n",
              "  </tbody>\n",
              "</table>\n",
              "<p>1309 rows × 2 columns</p>\n",
              "</div>"
            ],
            "text/plain": [
              "      pclass  Sex_Numerical\n",
              "0          1              0\n",
              "1          1              1\n",
              "2          1              0\n",
              "3          1              1\n",
              "4          1              0\n",
              "...      ...            ...\n",
              "1304       3              0\n",
              "1305       3              0\n",
              "1306       3              1\n",
              "1307       3              1\n",
              "1308       3              1\n",
              "\n",
              "[1309 rows x 2 columns]"
            ]
          },
          "metadata": {},
          "execution_count": 82
        }
      ]
    },
    {
      "cell_type": "markdown",
      "metadata": {
        "id": "9gkr4pg3tMOT"
      },
      "source": [
        "Lets now try to make the model even better by only taking the top two to get a higher area of the curve  \n"
      ]
    },
    {
      "cell_type": "code",
      "metadata": {
        "colab": {
          "base_uri": "https://localhost:8080/",
          "height": 111
        },
        "id": "dq_KXJvmcFFV",
        "outputId": "108e8167-52d0-47fa-f350-712c96f95998"
      },
      "source": [
        "Indep_train,Indep_test,dep_train,dep_test = train_test_split(Indep_v, dep_v,test_size = 0.33,random_state = 42) \n",
        "lr.fit(Indep_train,dep_train)\n",
        "predict = lr.predict(Indep_test)\n",
        "t = confusion_matrix(dep_test,predict)\n",
        "pd.DataFrame(t,columns=['Predict_no', 'Predict_yes'],index= ['Actual_no', 'Actual_yes'])\n",
        "\n"
      ],
      "execution_count": 83,
      "outputs": [
        {
          "output_type": "execute_result",
          "data": {
            "text/html": [
              "<div>\n",
              "<style scoped>\n",
              "    .dataframe tbody tr th:only-of-type {\n",
              "        vertical-align: middle;\n",
              "    }\n",
              "\n",
              "    .dataframe tbody tr th {\n",
              "        vertical-align: top;\n",
              "    }\n",
              "\n",
              "    .dataframe thead th {\n",
              "        text-align: right;\n",
              "    }\n",
              "</style>\n",
              "<table border=\"1\" class=\"dataframe\">\n",
              "  <thead>\n",
              "    <tr style=\"text-align: right;\">\n",
              "      <th></th>\n",
              "      <th>Predict_no</th>\n",
              "      <th>Predict_yes</th>\n",
              "    </tr>\n",
              "  </thead>\n",
              "  <tbody>\n",
              "    <tr>\n",
              "      <th>Actual_no</th>\n",
              "      <td>222</td>\n",
              "      <td>32</td>\n",
              "    </tr>\n",
              "    <tr>\n",
              "      <th>Actual_yes</th>\n",
              "      <td>59</td>\n",
              "      <td>119</td>\n",
              "    </tr>\n",
              "  </tbody>\n",
              "</table>\n",
              "</div>"
            ],
            "text/plain": [
              "            Predict_no  Predict_yes\n",
              "Actual_no          222           32\n",
              "Actual_yes          59          119"
            ]
          },
          "metadata": {},
          "execution_count": 83
        }
      ]
    },
    {
      "cell_type": "code",
      "metadata": {
        "colab": {
          "base_uri": "https://localhost:8080/",
          "height": 295
        },
        "id": "UFZEsFMScErl",
        "outputId": "34d482fd-1c96-4d2e-e8ca-1662b4ea2d29"
      },
      "source": [
        "probs = lr.predict_proba(Indep_test)\n",
        "preds = probs[:,1]\n",
        "fpr, tpr, threshold = roc_curve(dep_test, preds)\n",
        "roc_auc = auc(fpr, tpr)\n",
        "plt.plot(fpr, tpr, 'b', label = 'AUC = %0.2f' % roc_auc)\n",
        "plt.plot([0, 1], [0, 1],'r--')\n",
        "plt.xlim([0, 1])\n",
        "plt.ylim([0, 1])\n",
        "plt.ylabel('True Positive Rate (TPR)')\n",
        "plt.xlabel('False Positive Rate (FPR)')\n",
        "plt.title('Receiver Operating Characteristic (ROC)')\n",
        "plt.legend(loc = 'lower right')\n",
        "plt.show()"
      ],
      "execution_count": 84,
      "outputs": [
        {
          "output_type": "display_data",
          "data": {
            "image/png": "[encoded data removed]",
            "text/plain": [
              "<Figure size 432x288 with 1 Axes>"
            ]
          },
          "metadata": {
            "needs_background": "light"
          }
        }
      ]
    },
    {
      "cell_type": "markdown",
      "metadata": {
        "id": "pmedYV_Pir6p"
      },
      "source": [
        "There was no change in area under the curve when I chose the top two features best correlated for the survival rate number from the correlation matrix. "
      ]
    },
    {
      "cell_type": "code",
      "metadata": {
        "colab": {
          "base_uri": "https://localhost:8080/",
          "height": 0
        },
        "id": "sWGtriylkZB_",
        "outputId": "6d4de881-aa54-470f-d77f-0b36bba97d34"
      },
      "source": [
        "Inter = lr.intercept_\n",
        "Coeff = lr.coef_\n",
        "Coeff\n",
        "print(\"Intercept \" + str(Inter))\n",
        "print(\"All two Coefficent \" + str(Coeff))\n",
        "print(\"First Coefficent \" + str(Coeff[0][0]))\n",
        "print(\"Second Coefficent \" + str(Coeff[0][1]))\n"
      ],
      "execution_count": 85,
      "outputs": [
        {
          "output_type": "stream",
          "name": "stdout",
          "text": [
            "Intercept [2.80098606]\n",
            "All two Coefficent [[-0.86829091 -2.3743203 ]]\n",
            "First Coefficent -0.8682909062327991\n",
            "Second Coefficent -2.3743203012510277\n"
          ]
        }
      ]
    },
    {
      "cell_type": "markdown",
      "metadata": {
        "id": "CEm_VwEQnXlA"
      },
      "source": [
        "We have two Coefficients since there are two features with the highest correlation with survival using the correlation metrics."
      ]
    },
    {
      "cell_type": "code",
      "metadata": {
        "colab": {
          "base_uri": "https://localhost:8080/",
          "height": 0
        },
        "id": "7qgKK3kinhUS",
        "outputId": "39390eb6-ee8b-42ae-fd92-a76914f4fec3"
      },
      "source": [
        "def sigmoid_two(p_class_v,sex_numerical_v):\n",
        "    return (1 / (1 +\n",
        "        np.exp(-(Inter[0] +\n",
        "        ( Coeff[0][0]*p_class_v) +(Coeff[0][1]*sex_numerical_v)))))\n",
        "\n",
        "\n",
        "sigmoid_two(3,1)*100  # lower social-econmic class and male  "
      ],
      "execution_count": 86,
      "outputs": [
        {
          "output_type": "execute_result",
          "data": {
            "text/plain": [
              "10.172465336718691"
            ]
          },
          "metadata": {},
          "execution_count": 86
        }
      ]
    },
    {
      "cell_type": "markdown",
      "metadata": {
        "id": "gOzYyS58xyn8"
      },
      "source": [
        "The above result tells indicate that male that is in the lower social-economic class have 10.17% chance of survival. "
      ]
    },
    {
      "cell_type": "code",
      "metadata": {
        "colab": {
          "base_uri": "https://localhost:8080/",
          "height": 0
        },
        "id": "og8OV0zDwPTF",
        "outputId": "a999aebb-28bf-4ac0-a4fc-2d93768e89cc"
      },
      "source": [
        "sigmoid_two(1,0)*100 # upper social-econmic class and female "
      ],
      "execution_count": 87,
      "outputs": [
        {
          "output_type": "execute_result",
          "data": {
            "text/plain": [
              "87.35474329727836"
            ]
          },
          "metadata": {},
          "execution_count": 87
        }
      ]
    },
    {
      "cell_type": "markdown",
      "metadata": {
        "id": "HR0Ocda4yLek"
      },
      "source": [
        "The above result indicates that females in the upper social-economic class have an 87.35% chance of surviving.  "
      ]
    }
  ]
}