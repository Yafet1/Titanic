{
  "nbformat": 4,
  "nbformat_minor": 0,
  "metadata": {
    "colab": {
      "name": "Titanic_Naive_Bayes",
      "provenance": [],
      "collapsed_sections": [],
      "toc_visible": true
    },
    "kernelspec": {
      "name": "python3",
      "display_name": "Python 3"
    },
    "language_info": {
      "name": "python"
    }
  },
  "cells": [
    {
      "cell_type": "markdown",
      "metadata": {
        "id": "9qAAcaPbYaM6"
      },
      "source": [
        "Yafet Abraham Mekonnen"
      ]
    },
    {
      "cell_type": "markdown",
      "metadata": {
        "id": "sBXGDnU-pA0C"
      },
      "source": [
        "# Building a naive Bayes classifier to predict passenger survival on the *Titanic*\n",
        "\n",
        "**Note:** The dataset is from the [Vanderbilt Biostatistics Datasets](https://hbiostat.org/data/)."
      ]
    },
    {
      "cell_type": "markdown",
      "metadata": {
        "id": "IHH3GSRfvNzO"
      },
      "source": [
        "## Data\n",
        "\n",
        "You will be using the same [`titanic.csv`](https://www.ecst.csuchico.edu/~bjuliano/csci581/datasets/titanic.csv) dataset we used in Assignment #3.\n",
        "\n",
        "The file [`titanic.csv`](https://www.ecst.csuchico.edu/~bjuliano/csci581/datasets/titanic.csv) contains the details of the 1309 passengers on board and importantly, will reveal whether they survived or not.\n",
        "The dataset file details include:\n",
        "\n",
        "*   `pclass`: passenger class; proxy for socio-economic status (1st ~ upper, 2nd ~ middle, 3rd ~ lower)\n",
        "*   `survived`: survival status (0=No, 1=Yes)\n",
        "*   `name`: passenger name\n",
        "*   `sex`: passenger sex (male, female)\n",
        "*   `age`: passenger age in years (fractional if age is less than 1; if age is estimated, it is in the form xx.5)\n",
        "*   `sibsp`: number of siblings/spouses aboard (includes step-siblings; mistresses and fiances ignored)\n",
        "*   `parch`: number of parents/children aboard (parent only considers mother or father; child includes stepchildren)\n",
        "*   `ticket`: ticket number\n",
        "*   `fare`: passenger fare (in pre-1970 British pounds)\n",
        "*   `cabin`: cabin number\n",
        "*   `embarked`: port of embarkation (C=Cherbourg, Q=Queenstown, S=Southampton)\n",
        "*   `boat`: lifeboat number (if passenger boarded one)\n",
        "*   `body`: body identification number\n",
        "*   `home.dest`: passenger home/destination\n",
        "\n"
      ]
    },
    {
      "cell_type": "markdown",
      "metadata": {
        "id": "I25SaMi_1Pfm"
      },
      "source": [
        "# Solution"
      ]
    },
    {
      "cell_type": "code",
      "metadata": {
        "id": "8IkyN-tGstXX"
      },
      "source": [
        "import pandas as pd\n",
        "import numpy as np\n",
        "import seaborn as sns\n",
        "from sklearn.model_selection import train_test_split\n",
        "from sklearn.impute import SimpleImputer\n",
        "from sklearn.naive_bayes import GaussianNB\n",
        "from sklearn.metrics import confusion_matrix\n",
        "from sklearn.metrics import classification_report\n",
        "import matplotlib.pyplot as plt\n",
        "from sklearn.metrics import roc_curve, auc\n"
      ],
      "execution_count": null,
      "outputs": []
    },
    {
      "cell_type": "code",
      "metadata": {
        "colab": {
          "base_uri": "https://localhost:8080/"
        },
        "id": "YohakINLsudC",
        "outputId": "12c1be5c-e225-4a8d-e600-28268910b003"
      },
      "source": [
        "url = \"https://www.ecst.csuchico.edu/~bjuliano/csci581/datasets/titanic.csv\"\n",
        "df = pd.read_csv(url)\n",
        "df.dtypes"
      ],
      "execution_count": null,
      "outputs": [
        {
          "output_type": "execute_result",
          "data": {
            "text/plain": [
              "pclass         int64\n",
              "survived       int64\n",
              "name          object\n",
              "sex           object\n",
              "age          float64\n",
              "sibsp          int64\n",
              "parch          int64\n",
              "ticket        object\n",
              "fare         float64\n",
              "cabin         object\n",
              "embarked      object\n",
              "boat          object\n",
              "body         float64\n",
              "home.dest     object\n",
              "dtype: object"
            ]
          },
          "metadata": {},
          "execution_count": 234
        }
      ]
    },
    {
      "cell_type": "markdown",
      "metadata": {
        "id": "GGEPQf8gtFac"
      },
      "source": [
        "\n",
        "1.   All pertinent *exploratory data analysis* (EDA) code, visualizations, and justifications;"
      ]
    },
    {
      "cell_type": "code",
      "metadata": {
        "id": "HmzMZ_iutNip",
        "colab": {
          "base_uri": "https://localhost:8080/",
          "height": 386
        },
        "outputId": "4925284b-7d0f-4667-875c-528a50317ae4"
      },
      "source": [
        "sns.catplot(x =\"sex\", hue =\"survived\", kind =\"count\", data = df)\n"
      ],
      "execution_count": null,
      "outputs": [
        {
          "output_type": "execute_result",
          "data": {
            "text/plain": [
              "<seaborn.axisgrid.FacetGrid at 0x7fc5820bc210>"
            ]
          },
          "metadata": {},
          "execution_count": 235
        },
        {
          "output_type": "display_data",
          "data": {
            "image/png": "[encoded data removed]",
            "text/plain": [
              "<Figure size 410.875x360 with 1 Axes>"
            ]
          },
          "metadata": {
            "needs_background": "light"
          }
        }
      ]
    },
    {
      "cell_type": "markdown",
      "metadata": {
        "id": "V7eQwOqDtORT"
      },
      "source": [
        "The graph above clearly shows that most male passengers did not survive the shipwreck comparing it with female passengers. Most of the passengers that survived were female."
      ]
    },
    {
      "cell_type": "code",
      "metadata": {
        "colab": {
          "base_uri": "https://localhost:8080/",
          "height": 325
        },
        "id": "bj_obEwFjan_",
        "outputId": "9cbb33bd-b1e0-48c3-d638-e3c08062a13a"
      },
      "source": [
        "sns.catplot(x ='sex', hue ='survived', kind ='count', col ='pclass', data = df)"
      ],
      "execution_count": null,
      "outputs": [
        {
          "output_type": "execute_result",
          "data": {
            "text/plain": [
              "<seaborn.axisgrid.FacetGrid at 0x7fc5819cb510>"
            ]
          },
          "metadata": {},
          "execution_count": 236
        },
        {
          "output_type": "display_data",
          "data": {
            "image/png": "[encoded data removed]",
            "text/plain": [
              "<Figure size 1130.88x360 with 3 Axes>"
            ]
          },
          "metadata": {
            "needs_background": "light"
          }
        }
      ]
    },
    {
      "cell_type": "markdown",
      "metadata": {
        "id": "4E3KfUX8je8P"
      },
      "source": [
        "The above graph also indicates that most of the male passengers did not survive. In addition, this graph provides more information about the socio-economic status where the lowest socio-economic class specifically the male having the highest death rate, and females in all socio-economic status have a lower death rate.  "
      ]
    },
    {
      "cell_type": "code",
      "metadata": {
        "colab": {
          "base_uri": "https://localhost:8080/"
        },
        "id": "okMsIYo3jxPY",
        "outputId": "d6c1e97c-1aaf-4f34-faf5-1e05cfdddfc2"
      },
      "source": [
        "imputer = SimpleImputer(missing_values=np.NaN, strategy='most_frequent')\n",
        "df.age = imputer.fit_transform(df['age'].values.reshape(-1,1))[:,0]\n",
        "df['age'].isnull().sum()"
      ],
      "execution_count": null,
      "outputs": [
        {
          "output_type": "execute_result",
          "data": {
            "text/plain": [
              "0"
            ]
          },
          "metadata": {},
          "execution_count": 237
        }
      ]
    },
    {
      "cell_type": "markdown",
      "metadata": {
        "id": "E1hEPqAojyaH"
      },
      "source": [
        "The code above replace the missing vaule of age with the most frequent vaules using the scikit-learn's SimpleImputer method. "
      ]
    },
    {
      "cell_type": "code",
      "metadata": {
        "colab": {
          "base_uri": "https://localhost:8080/",
          "height": 296
        },
        "id": "1oltYsW4jlnj",
        "outputId": "4e2a4eb6-e1a6-44a1-a118-f4af76b466c0"
      },
      "source": [
        "sns.violinplot(x =\"sex\", y =\"age\", hue =\"survived\", data = df, split = True)"
      ],
      "execution_count": null,
      "outputs": [
        {
          "output_type": "execute_result",
          "data": {
            "text/plain": [
              "<matplotlib.axes._subplots.AxesSubplot at 0x7fc5818884d0>"
            ]
          },
          "metadata": {},
          "execution_count": 238
        },
        {
          "output_type": "display_data",
          "data": {
            "image/png": "[encoded data removed]",
            "text/plain": [
              "<Figure size 432x288 with 1 Axes>"
            ]
          },
          "metadata": {
            "needs_background": "light"
          }
        }
      ]
    },
    {
      "cell_type": "markdown",
      "metadata": {
        "id": "EpBf4rPOkGkb"
      },
      "source": [
        "The graph above shows that in both genders most children within the age of 0 to 10 survived and the majority age group that did not survive is in the age between 20 to 40 in both genders, a male has more death rate in this group, but the death rate becomes less for both men and women as the age increase."
      ]
    },
    {
      "cell_type": "markdown",
      "metadata": {
        "id": "VpYGlVHptTuU"
      },
      "source": [
        "2.   Explanations/justifications for all model selection decisions;"
      ]
    },
    {
      "cell_type": "markdown",
      "metadata": {
        "id": "U-ewhBZutZoS"
      },
      "source": [
        "The use of Naive Bayes classifier is used, it is a part of the probabilistic classifiers based on applying Bayes' theorem with strong independence assumptions between the features"
      ]
    },
    {
      "cell_type": "markdown",
      "metadata": {
        "id": "yMGaYopitamM"
      },
      "source": [
        "3.   All pertinent model diagnostics, including metrics and visualizations;"
      ]
    },
    {
      "cell_type": "code",
      "metadata": {
        "colab": {
          "base_uri": "https://localhost:8080/"
        },
        "id": "rC3tNXpwtucC",
        "outputId": "1f9ca525-b47f-4700-9385-5cae4e5a7a0a"
      },
      "source": [
        "df.isnull().sum()\n"
      ],
      "execution_count": null,
      "outputs": [
        {
          "output_type": "execute_result",
          "data": {
            "text/plain": [
              "pclass          0\n",
              "survived        0\n",
              "name            0\n",
              "sex             0\n",
              "age             0\n",
              "sibsp           0\n",
              "parch           0\n",
              "ticket          0\n",
              "fare            1\n",
              "cabin        1014\n",
              "embarked        2\n",
              "boat          823\n",
              "body         1188\n",
              "home.dest     564\n",
              "dtype: int64"
            ]
          },
          "metadata": {},
          "execution_count": 239
        }
      ]
    },
    {
      "cell_type": "code",
      "metadata": {
        "colab": {
          "base_uri": "https://localhost:8080/"
        },
        "id": "yI8w46MYvgYS",
        "outputId": "55bee152-78f0-496b-c876-c32658f249ca"
      },
      "source": [
        "df.head()\n",
        "imputer = SimpleImputer(missing_values=np.NaN, strategy='mean')\n",
        "df.fare = imputer.fit_transform(df['fare'].values.reshape(-1,1))[:,0]\n",
        "df['fare'].isnull().sum()\n",
        "\n",
        "\n"
      ],
      "execution_count": null,
      "outputs": [
        {
          "output_type": "execute_result",
          "data": {
            "text/plain": [
              "0"
            ]
          },
          "metadata": {},
          "execution_count": 240
        }
      ]
    },
    {
      "cell_type": "markdown",
      "metadata": {
        "id": "qFhpY04AwvAs"
      },
      "source": [
        "The code above replace the missing vaule of fare with the mean using the scikit-learn's SimpleImputer method."
      ]
    },
    {
      "cell_type": "code",
      "metadata": {
        "colab": {
          "base_uri": "https://localhost:8080/",
          "height": 530
        },
        "id": "W7ZDUlLlzZU4",
        "outputId": "f8439450-9ea5-4b12-d894-f072005583d1"
      },
      "source": [
        "sex_numerical = pd.get_dummies(df['sex'],drop_first=True) # convert the sex column to numeric \n",
        "df['Sex_Numerical'] = sex_numerical   # insert into the datasets\n",
        "df.head()"
      ],
      "execution_count": null,
      "outputs": [
        {
          "output_type": "execute_result",
          "data": {
            "text/html": [
              "<div>\n",
              "<style scoped>\n",
              "    .dataframe tbody tr th:only-of-type {\n",
              "        vertical-align: middle;\n",
              "    }\n",
              "\n",
              "    .dataframe tbody tr th {\n",
              "        vertical-align: top;\n",
              "    }\n",
              "\n",
              "    .dataframe thead th {\n",
              "        text-align: right;\n",
              "    }\n",
              "</style>\n",
              "<table border=\"1\" class=\"dataframe\">\n",
              "  <thead>\n",
              "    <tr style=\"text-align: right;\">\n",
              "      <th></th>\n",
              "      <th>pclass</th>\n",
              "      <th>survived</th>\n",
              "      <th>name</th>\n",
              "      <th>sex</th>\n",
              "      <th>age</th>\n",
              "      <th>sibsp</th>\n",
              "      <th>parch</th>\n",
              "      <th>ticket</th>\n",
              "      <th>fare</th>\n",
              "      <th>cabin</th>\n",
              "      <th>embarked</th>\n",
              "      <th>boat</th>\n",
              "      <th>body</th>\n",
              "      <th>home.dest</th>\n",
              "      <th>Sex_Numerical</th>\n",
              "    </tr>\n",
              "  </thead>\n",
              "  <tbody>\n",
              "    <tr>\n",
              "      <th>0</th>\n",
              "      <td>1</td>\n",
              "      <td>1</td>\n",
              "      <td>Allen, Miss. Elisabeth Walton</td>\n",
              "      <td>female</td>\n",
              "      <td>29.00</td>\n",
              "      <td>0</td>\n",
              "      <td>0</td>\n",
              "      <td>24160</td>\n",
              "      <td>211.3375</td>\n",
              "      <td>B5</td>\n",
              "      <td>S</td>\n",
              "      <td>2</td>\n",
              "      <td>NaN</td>\n",
              "      <td>St Louis, MO</td>\n",
              "      <td>0</td>\n",
              "    </tr>\n",
              "    <tr>\n",
              "      <th>1</th>\n",
              "      <td>1</td>\n",
              "      <td>1</td>\n",
              "      <td>Allison, Master. Hudson Trevor</td>\n",
              "      <td>male</td>\n",
              "      <td>0.92</td>\n",
              "      <td>1</td>\n",
              "      <td>2</td>\n",
              "      <td>113781</td>\n",
              "      <td>151.5500</td>\n",
              "      <td>C22 C26</td>\n",
              "      <td>S</td>\n",
              "      <td>11</td>\n",
              "      <td>NaN</td>\n",
              "      <td>Montreal, PQ / Chesterville, ON</td>\n",
              "      <td>1</td>\n",
              "    </tr>\n",
              "    <tr>\n",
              "      <th>2</th>\n",
              "      <td>1</td>\n",
              "      <td>0</td>\n",
              "      <td>Allison, Miss. Helen Loraine</td>\n",
              "      <td>female</td>\n",
              "      <td>2.00</td>\n",
              "      <td>1</td>\n",
              "      <td>2</td>\n",
              "      <td>113781</td>\n",
              "      <td>151.5500</td>\n",
              "      <td>C22 C26</td>\n",
              "      <td>S</td>\n",
              "      <td>NaN</td>\n",
              "      <td>NaN</td>\n",
              "      <td>Montreal, PQ / Chesterville, ON</td>\n",
              "      <td>0</td>\n",
              "    </tr>\n",
              "    <tr>\n",
              "      <th>3</th>\n",
              "      <td>1</td>\n",
              "      <td>0</td>\n",
              "      <td>Allison, Mr. Hudson Joshua Creighton</td>\n",
              "      <td>male</td>\n",
              "      <td>30.00</td>\n",
              "      <td>1</td>\n",
              "      <td>2</td>\n",
              "      <td>113781</td>\n",
              "      <td>151.5500</td>\n",
              "      <td>C22 C26</td>\n",
              "      <td>S</td>\n",
              "      <td>NaN</td>\n",
              "      <td>135.0</td>\n",
              "      <td>Montreal, PQ / Chesterville, ON</td>\n",
              "      <td>1</td>\n",
              "    </tr>\n",
              "    <tr>\n",
              "      <th>4</th>\n",
              "      <td>1</td>\n",
              "      <td>0</td>\n",
              "      <td>Allison, Mrs. Hudson J C (Bessie Waldo Daniels)</td>\n",
              "      <td>female</td>\n",
              "      <td>25.00</td>\n",
              "      <td>1</td>\n",
              "      <td>2</td>\n",
              "      <td>113781</td>\n",
              "      <td>151.5500</td>\n",
              "      <td>C22 C26</td>\n",
              "      <td>S</td>\n",
              "      <td>NaN</td>\n",
              "      <td>NaN</td>\n",
              "      <td>Montreal, PQ / Chesterville, ON</td>\n",
              "      <td>0</td>\n",
              "    </tr>\n",
              "  </tbody>\n",
              "</table>\n",
              "</div>"
            ],
            "text/plain": [
              "   pclass  survived  ...                        home.dest Sex_Numerical\n",
              "0       1         1  ...                     St Louis, MO             0\n",
              "1       1         1  ...  Montreal, PQ / Chesterville, ON             1\n",
              "2       1         0  ...  Montreal, PQ / Chesterville, ON             0\n",
              "3       1         0  ...  Montreal, PQ / Chesterville, ON             1\n",
              "4       1         0  ...  Montreal, PQ / Chesterville, ON             0\n",
              "\n",
              "[5 rows x 15 columns]"
            ]
          },
          "metadata": {},
          "execution_count": 241
        }
      ]
    },
    {
      "cell_type": "markdown",
      "metadata": {
        "id": "iKrl0DH9SS_q"
      },
      "source": [
        "The above code changes the sex features from categorical variable to numerical variable because I want to use the sex features in the logistic regression model. Where a female is represented as 0 and a male is represented as 1.  "
      ]
    },
    {
      "cell_type": "code",
      "metadata": {
        "id": "Drc35Snmzjzv"
      },
      "source": [
        "df.drop(['name','sex','ticket','cabin','embarked','boat','home.dest','body'], axis=1,inplace=True)  # drop all these \n"
      ],
      "execution_count": null,
      "outputs": []
    },
    {
      "cell_type": "markdown",
      "metadata": {
        "id": "Qz618-ojzrkY"
      },
      "source": [
        "I chose to drop these features above because they would not help with the use of creating a Gaussian Naive Bayes (GaussianNB).\n",
        "\n"
      ]
    },
    {
      "cell_type": "code",
      "metadata": {
        "colab": {
          "base_uri": "https://localhost:8080/"
        },
        "id": "8eBpyvyD2Z3A",
        "outputId": "147977ad-a3f7-4fbd-bcab-fa4ad4c59732"
      },
      "source": [
        "corr = df.corr()\n",
        "print(df.corr().abs().nlargest(5, 'survived').index) \n"
      ],
      "execution_count": null,
      "outputs": [
        {
          "output_type": "stream",
          "name": "stdout",
          "text": [
            "Index(['survived', 'Sex_Numerical', 'pclass', 'fare', 'parch'], dtype='object')\n"
          ]
        }
      ]
    },
    {
      "cell_type": "markdown",
      "metadata": {
        "id": "-RcPljbN2gEJ"
      },
      "source": [
        "In the code above it print the top 4 feature with the highest correlation with survived feature using the correlation matrix. The correlation matrix above indicates that the top 4 features which are sex_numberical,pclass, fare, and parch have the highest correlation with survived. Which means these 4 are the best feature to use to create the model \n"
      ]
    },
    {
      "cell_type": "code",
      "metadata": {
        "colab": {
          "base_uri": "https://localhost:8080/"
        },
        "id": "V4wf0Ncmz1-B",
        "outputId": "2ae05537-37b5-49b2-b8d3-c0179c38b3b7"
      },
      "source": [
        "features_v = df[['Sex_Numerical', 'pclass', 'fare', 'parch']]   \n",
        "target_v = df['survived']\n",
        "\n",
        "train_set, test_set, train_labels, test_labels = train_test_split(features_v, target_v,test_size = 0.25,random_state = 1, stratify = target_v) \n",
        "\n",
        "\n",
        "model = GaussianNB()\n",
        "model.fit(train_set, train_labels)\n",
        "\n",
        "# Print model parameters\n",
        "print( 'Model parameters:', model.get_params() )\n",
        "\n"
      ],
      "execution_count": null,
      "outputs": [
        {
          "output_type": "stream",
          "name": "stdout",
          "text": [
            "Model parameters: {'priors': None, 'var_smoothing': 1e-09}\n"
          ]
        }
      ]
    },
    {
      "cell_type": "code",
      "metadata": {
        "colab": {
          "base_uri": "https://localhost:8080/",
          "height": 111
        },
        "id": "Ony5GysZWXSk",
        "outputId": "999370c0-52c1-49ef-dc5b-2d88ac6a793e"
      },
      "source": [
        "predict = model.predict(test_set)\n",
        "t = confusion_matrix(test_labels,predict)\n",
        "#creating table from our confusion_matrix\n",
        "pd.DataFrame(t,columns=['Predict_no', 'Predict_yes'],index= ['Actual_no', 'Actual_yes'])\n",
        "\n"
      ],
      "execution_count": null,
      "outputs": [
        {
          "output_type": "execute_result",
          "data": {
            "text/html": [
              "<div>\n",
              "<style scoped>\n",
              "    .dataframe tbody tr th:only-of-type {\n",
              "        vertical-align: middle;\n",
              "    }\n",
              "\n",
              "    .dataframe tbody tr th {\n",
              "        vertical-align: top;\n",
              "    }\n",
              "\n",
              "    .dataframe thead th {\n",
              "        text-align: right;\n",
              "    }\n",
              "</style>\n",
              "<table border=\"1\" class=\"dataframe\">\n",
              "  <thead>\n",
              "    <tr style=\"text-align: right;\">\n",
              "      <th></th>\n",
              "      <th>Predict_no</th>\n",
              "      <th>Predict_yes</th>\n",
              "    </tr>\n",
              "  </thead>\n",
              "  <tbody>\n",
              "    <tr>\n",
              "      <th>Actual_no</th>\n",
              "      <td>170</td>\n",
              "      <td>33</td>\n",
              "    </tr>\n",
              "    <tr>\n",
              "      <th>Actual_yes</th>\n",
              "      <td>41</td>\n",
              "      <td>84</td>\n",
              "    </tr>\n",
              "  </tbody>\n",
              "</table>\n",
              "</div>"
            ],
            "text/plain": [
              "            Predict_no  Predict_yes\n",
              "Actual_no          170           33\n",
              "Actual_yes          41           84"
            ]
          },
          "metadata": {},
          "execution_count": 245
        }
      ]
    },
    {
      "cell_type": "markdown",
      "metadata": {
        "id": "rkbV4asrC8ol"
      },
      "source": [
        " According to the confusion matrix table above the model predicted 170 passengers to not survive and 84 to survive which matches with the actual but comparing with the actual data 41 passengers were predicted not to survive however they survived, and 33 were predicted to survive but did not.  "
      ]
    },
    {
      "cell_type": "code",
      "metadata": {
        "colab": {
          "base_uri": "https://localhost:8080/"
        },
        "id": "7XlVl2TPr20i",
        "outputId": "218c0254-5007-42a8-868a-52dfa99426eb"
      },
      "source": [
        "#---get the accuracy of the prediction---\n",
        "print(\"---Accuracy---\")\n",
        "print(model.score(test_set , test_labels))\n",
        "\n"
      ],
      "execution_count": null,
      "outputs": [
        {
          "output_type": "stream",
          "name": "stdout",
          "text": [
            "---Accuracy---\n",
            "0.774390243902439\n"
          ]
        }
      ]
    },
    {
      "cell_type": "markdown",
      "metadata": {
        "id": "1W_kvJwRC941"
      },
      "source": [
        "The model with 4 feature with the highest correlation accuracy of the prediction is 77.4%"
      ]
    },
    {
      "cell_type": "code",
      "metadata": {
        "colab": {
          "base_uri": "https://localhost:8080/"
        },
        "id": "cLIgsS9IDWNv",
        "outputId": "5587af0d-1c9e-4416-fd8d-f876f8e13338"
      },
      "source": [
        "report = classification_report(test_labels,predict)\n",
        "print(report)"
      ],
      "execution_count": null,
      "outputs": [
        {
          "output_type": "stream",
          "name": "stdout",
          "text": [
            "              precision    recall  f1-score   support\n",
            "\n",
            "           0       0.81      0.84      0.82       203\n",
            "           1       0.72      0.67      0.69       125\n",
            "\n",
            "    accuracy                           0.77       328\n",
            "   macro avg       0.76      0.75      0.76       328\n",
            "weighted avg       0.77      0.77      0.77       328\n",
            "\n"
          ]
        }
      ]
    },
    {
      "cell_type": "code",
      "metadata": {
        "colab": {
          "base_uri": "https://localhost:8080/",
          "height": 295
        },
        "id": "40shekRvKMFn",
        "outputId": "1615403d-df6b-4507-f81c-38e05c7c4ff7"
      },
      "source": [
        "probs = model.predict_proba(test_set)\n",
        "preds = probs[:,1]\n",
        "fpr, tpr, threshold = roc_curve(test_labels, preds)\n",
        "roc_auc = auc(fpr, tpr)\n",
        "plt.plot(fpr, tpr, 'b', label = 'AUC = %0.2f' % roc_auc)\n",
        "plt.plot([0, 1], [0, 1],'r--')\n",
        "plt.xlim([0, 1])\n",
        "plt.ylim([0, 1])\n",
        "plt.ylabel('True Positive Rate (TPR)')\n",
        "plt.xlabel('False Positive Rate (FPR)')\n",
        "plt.title('Receiver Operating Characteristic (ROC)')\n",
        "plt.legend(loc = 'lower right')\n",
        "plt.show()\n",
        "\n"
      ],
      "execution_count": null,
      "outputs": [
        {
          "output_type": "display_data",
          "data": {
            "image/png": "[encoded data removed]",
            "text/plain": [
              "<Figure size 432x288 with 1 Axes>"
            ]
          },
          "metadata": {
            "needs_background": "light"
          }
        }
      ]
    },
    {
      "cell_type": "markdown",
      "metadata": {
        "id": "YYBRVHTLUB2Y"
      },
      "source": [
        "Using the highest four features from the correlation matrix 79% of area under the curve was calculated by plotting the Receiver Operating Characteristic (ROC) using the random classifier where the model was above it. "
      ]
    },
    {
      "cell_type": "code",
      "metadata": {
        "colab": {
          "base_uri": "https://localhost:8080/"
        },
        "id": "zEOZfcqLDzYG",
        "outputId": "ec248eee-b067-487e-f1a3-462979225736"
      },
      "source": [
        "print(df.corr().abs().nlargest(4, 'survived').index)  #trying with three highest corrleated features \n",
        "features_v = df[['pclass','Sex_Numerical', 'fare']]   \n",
        "target_v = df['survived']\n",
        "train_set, test_set, train_labels, test_labels = train_test_split(features_v, target_v,test_size = 0.25,random_state = 1, stratify = target_v) \n",
        "model.fit(train_set, train_labels)\n",
        "\n",
        "# Print model parameters\n",
        "print( 'Model parameters:', model.get_params() )\n",
        "\n"
      ],
      "execution_count": null,
      "outputs": [
        {
          "output_type": "stream",
          "name": "stdout",
          "text": [
            "Index(['survived', 'Sex_Numerical', 'pclass', 'fare'], dtype='object')\n",
            "Model parameters: {'priors': None, 'var_smoothing': 1e-09}\n"
          ]
        }
      ]
    },
    {
      "cell_type": "markdown",
      "metadata": {
        "id": "X-2fCR3BUXjM"
      },
      "source": [
        "Lets now try to make our model  better by only taking the top three to get a higher area of the curve"
      ]
    },
    {
      "cell_type": "code",
      "metadata": {
        "colab": {
          "base_uri": "https://localhost:8080/",
          "height": 111
        },
        "id": "yu-sfd9HFplb",
        "outputId": "0706f216-0467-4c40-eb66-85e31121e4c6"
      },
      "source": [
        "predict = model.predict(test_set)\n",
        "t = confusion_matrix(test_labels,predict)\n",
        "#creating table from our confusion_matrix\n",
        "pd.DataFrame(t,columns=['Predict_no', 'Predict_yes'],index= ['Actual_no', 'Actual_yes'])\n"
      ],
      "execution_count": null,
      "outputs": [
        {
          "output_type": "execute_result",
          "data": {
            "text/html": [
              "<div>\n",
              "<style scoped>\n",
              "    .dataframe tbody tr th:only-of-type {\n",
              "        vertical-align: middle;\n",
              "    }\n",
              "\n",
              "    .dataframe tbody tr th {\n",
              "        vertical-align: top;\n",
              "    }\n",
              "\n",
              "    .dataframe thead th {\n",
              "        text-align: right;\n",
              "    }\n",
              "</style>\n",
              "<table border=\"1\" class=\"dataframe\">\n",
              "  <thead>\n",
              "    <tr style=\"text-align: right;\">\n",
              "      <th></th>\n",
              "      <th>Predict_no</th>\n",
              "      <th>Predict_yes</th>\n",
              "    </tr>\n",
              "  </thead>\n",
              "  <tbody>\n",
              "    <tr>\n",
              "      <th>Actual_no</th>\n",
              "      <td>168</td>\n",
              "      <td>35</td>\n",
              "    </tr>\n",
              "    <tr>\n",
              "      <th>Actual_yes</th>\n",
              "      <td>41</td>\n",
              "      <td>84</td>\n",
              "    </tr>\n",
              "  </tbody>\n",
              "</table>\n",
              "</div>"
            ],
            "text/plain": [
              "            Predict_no  Predict_yes\n",
              "Actual_no          168           35\n",
              "Actual_yes          41           84"
            ]
          },
          "metadata": {},
          "execution_count": 250
        }
      ]
    },
    {
      "cell_type": "markdown",
      "metadata": {
        "id": "46qluxdXUhpu"
      },
      "source": [
        " According to the confusion matrix table above the model predicted 168 passengers to not survive and 84 to survive which matches with the actual but comparing with the actual data 41 passengers were predicted not to survive however they survived, and 35 were predicted to survive but did not. The confusion matrix did not make any significant change comparing with the one before. "
      ]
    },
    {
      "cell_type": "code",
      "metadata": {
        "colab": {
          "base_uri": "https://localhost:8080/"
        },
        "id": "G-kkg0IiF02n",
        "outputId": "479e7790-9b64-401d-baf0-bb3a36a61ac9"
      },
      "source": [
        "#---get the accuracy of the prediction---\n",
        "print(\"---Accuracy---\")\n",
        "print(model.score(test_set , test_labels))"
      ],
      "execution_count": null,
      "outputs": [
        {
          "output_type": "stream",
          "name": "stdout",
          "text": [
            "---Accuracy---\n",
            "0.7682926829268293\n"
          ]
        }
      ]
    },
    {
      "cell_type": "markdown",
      "metadata": {
        "id": "uGiD2AFFZMrh"
      },
      "source": [
        "The model with 3 feature with the highest correlation accuracy of the prediction is 76.8%"
      ]
    },
    {
      "cell_type": "code",
      "metadata": {
        "colab": {
          "base_uri": "https://localhost:8080/"
        },
        "id": "jQW6o-qTo72Z",
        "outputId": "fe83d772-88e4-4457-9208-9d39471a4955"
      },
      "source": [
        "report = classification_report(test_labels,predict)\n",
        "print(report)"
      ],
      "execution_count": null,
      "outputs": [
        {
          "output_type": "stream",
          "name": "stdout",
          "text": [
            "              precision    recall  f1-score   support\n",
            "\n",
            "           0       0.80      0.83      0.82       203\n",
            "           1       0.71      0.67      0.69       125\n",
            "\n",
            "    accuracy                           0.77       328\n",
            "   macro avg       0.75      0.75      0.75       328\n",
            "weighted avg       0.77      0.77      0.77       328\n",
            "\n"
          ]
        }
      ]
    },
    {
      "cell_type": "code",
      "metadata": {
        "colab": {
          "base_uri": "https://localhost:8080/",
          "height": 295
        },
        "id": "P8xku3ZGMXxt",
        "outputId": "a4bff1ae-c030-4de3-8560-3c1cd0ab623d"
      },
      "source": [
        "#---find the predicted probabilities using the test set\n",
        "probs = model.predict_proba(test_set)\n",
        "preds = probs[:,1]\n",
        "\n",
        "#---find the FPR, TPR, and threshold---\n",
        "fpr, tpr, threshold = roc_curve(test_labels, preds)\n",
        "\n",
        "#---find the area under the curve---\n",
        "roc_auc = auc(fpr, tpr)\n",
        "\n",
        "plt.plot(fpr, tpr, 'b', label = 'AUC = %0.2f' % roc_auc)\n",
        "plt.plot([0, 1], [0, 1],'r--')\n",
        "plt.xlim([0, 1])\n",
        "plt.ylim([0, 1])\n",
        "plt.ylabel('True Positive Rate (TPR)')\n",
        "plt.xlabel('False Positive Rate (FPR)')\n",
        "plt.title('Receiver Operating Characteristic (ROC)')\n",
        "plt.legend(loc = 'lower right')\n",
        "plt.show()"
      ],
      "execution_count": null,
      "outputs": [
        {
          "output_type": "display_data",
          "data": {
            "image/png": "[encoded data removed]",
            "text/plain": [
              "<Figure size 432x288 with 1 Axes>"
            ]
          },
          "metadata": {
            "needs_background": "light"
          }
        }
      ]
    },
    {
      "cell_type": "markdown",
      "metadata": {
        "id": "xxrdWHUhF-XE"
      },
      "source": [
        "The area under the curve now lowered by one percent when I only chose the top 3 highest correlated features using the correlation matrix "
      ]
    },
    {
      "cell_type": "code",
      "metadata": {
        "colab": {
          "base_uri": "https://localhost:8080/"
        },
        "id": "U1-nxRfGF8TR",
        "outputId": "a0cb4cf3-6d76-4529-f62a-42560156bce6"
      },
      "source": [
        "print(df.corr().abs().nlargest(3, 'survived').index) \n",
        "features_v = df[['pclass','Sex_Numerical']]   \n",
        "target_v = df['survived']\n",
        "train_set, test_set, train_labels, test_labels = train_test_split(features_v, target_v,test_size = 0.25,random_state = 1, stratify = target_v) \n",
        "model.fit(train_set, train_labels)\n",
        "# Print model parameters\n",
        "print( 'Model parameters:', model.get_params() )"
      ],
      "execution_count": null,
      "outputs": [
        {
          "output_type": "stream",
          "name": "stdout",
          "text": [
            "Index(['survived', 'Sex_Numerical', 'pclass'], dtype='object')\n",
            "Model parameters: {'priors': None, 'var_smoothing': 1e-09}\n"
          ]
        }
      ]
    },
    {
      "cell_type": "markdown",
      "metadata": {
        "id": "E6os4eC3ZvTE"
      },
      "source": [
        "Lets now try to make the model even better by only taking the top two to get a higher area of the curve  \n"
      ]
    },
    {
      "cell_type": "code",
      "metadata": {
        "colab": {
          "base_uri": "https://localhost:8080/",
          "height": 111
        },
        "id": "nZglkR9DF84v",
        "outputId": "5ba042e8-a96e-4d0e-a0a0-f1e99d79289a"
      },
      "source": [
        "predict = model.predict(test_set)\n",
        "t = confusion_matrix(test_labels,predict)\n",
        "#creating table from our confusion_matrix\n",
        "pd.DataFrame(t,columns=['Predict_no', 'Predict_yes'],index= ['Actual_no', 'Actual_yes'])\n"
      ],
      "execution_count": null,
      "outputs": [
        {
          "output_type": "execute_result",
          "data": {
            "text/html": [
              "<div>\n",
              "<style scoped>\n",
              "    .dataframe tbody tr th:only-of-type {\n",
              "        vertical-align: middle;\n",
              "    }\n",
              "\n",
              "    .dataframe tbody tr th {\n",
              "        vertical-align: top;\n",
              "    }\n",
              "\n",
              "    .dataframe thead th {\n",
              "        text-align: right;\n",
              "    }\n",
              "</style>\n",
              "<table border=\"1\" class=\"dataframe\">\n",
              "  <thead>\n",
              "    <tr style=\"text-align: right;\">\n",
              "      <th></th>\n",
              "      <th>Predict_no</th>\n",
              "      <th>Predict_yes</th>\n",
              "    </tr>\n",
              "  </thead>\n",
              "  <tbody>\n",
              "    <tr>\n",
              "      <th>Actual_no</th>\n",
              "      <td>176</td>\n",
              "      <td>27</td>\n",
              "    </tr>\n",
              "    <tr>\n",
              "      <th>Actual_yes</th>\n",
              "      <td>43</td>\n",
              "      <td>82</td>\n",
              "    </tr>\n",
              "  </tbody>\n",
              "</table>\n",
              "</div>"
            ],
            "text/plain": [
              "            Predict_no  Predict_yes\n",
              "Actual_no          176           27\n",
              "Actual_yes          43           82"
            ]
          },
          "metadata": {},
          "execution_count": 255
        }
      ]
    },
    {
      "cell_type": "markdown",
      "metadata": {
        "id": "cFhmzqwpZ59C"
      },
      "source": [
        "The prediction not to survive and the actual not to survive increase which means the model showed improvement when only two highly correlated features are taken"
      ]
    },
    {
      "cell_type": "code",
      "metadata": {
        "colab": {
          "base_uri": "https://localhost:8080/"
        },
        "id": "XDLtnrwrF9N_",
        "outputId": "07ce4a8d-fa53-403b-a423-f22d50f2521d"
      },
      "source": [
        "#---get the accuracy of the prediction---\n",
        "print(\"---Accuracy---\")\n",
        "print(model.score(test_set , test_labels))"
      ],
      "execution_count": null,
      "outputs": [
        {
          "output_type": "stream",
          "name": "stdout",
          "text": [
            "---Accuracy---\n",
            "0.7865853658536586\n"
          ]
        }
      ]
    },
    {
      "cell_type": "markdown",
      "metadata": {
        "id": "91t9aX2danp7"
      },
      "source": [
        "The accuracy sightly increase as well by now being \n",
        "78.6% "
      ]
    },
    {
      "cell_type": "code",
      "metadata": {
        "colab": {
          "base_uri": "https://localhost:8080/"
        },
        "id": "bSd3JyFapBct",
        "outputId": "f08722b7-39e2-402e-dfd9-4c6dcee69049"
      },
      "source": [
        "report = classification_report(test_labels,predict)\n",
        "print(report)"
      ],
      "execution_count": null,
      "outputs": [
        {
          "output_type": "stream",
          "name": "stdout",
          "text": [
            "              precision    recall  f1-score   support\n",
            "\n",
            "           0       0.80      0.87      0.83       203\n",
            "           1       0.75      0.66      0.70       125\n",
            "\n",
            "    accuracy                           0.79       328\n",
            "   macro avg       0.78      0.76      0.77       328\n",
            "weighted avg       0.78      0.79      0.78       328\n",
            "\n"
          ]
        }
      ]
    },
    {
      "cell_type": "code",
      "metadata": {
        "colab": {
          "base_uri": "https://localhost:8080/",
          "height": 295
        },
        "id": "4cCJ8JqQG9Wk",
        "outputId": "7b627d4a-2489-4ac1-ab5e-1ca0daa3e05f"
      },
      "source": [
        "probs = model.predict_proba(test_set)\n",
        "preds = probs[:,1]\n",
        "fpr, tpr, threshold = roc_curve(test_labels, preds)\n",
        "roc_auc = auc(fpr, tpr)\n",
        "plt.plot(fpr, tpr, 'b', label = 'AUC = %0.2f' % roc_auc)\n",
        "plt.plot([0, 1], [0, 1],'r--')\n",
        "plt.xlim([0, 1])\n",
        "plt.ylim([0, 1])\n",
        "plt.ylabel('True Positive Rate (TPR)')\n",
        "plt.xlabel('False Positive Rate (FPR)')\n",
        "plt.title('Receiver Operating Characteristic (ROC)')\n",
        "plt.legend(loc = 'lower right')\n",
        "plt.show()\n"
      ],
      "execution_count": null,
      "outputs": [
        {
          "output_type": "display_data",
          "data": {
            "image/png": "[encoded data removed]",
            "text/plain": [
              "<Figure size 432x288 with 1 Axes>"
            ]
          },
          "metadata": {
            "needs_background": "light"
          }
        }
      ]
    },
    {
      "cell_type": "markdown",
      "metadata": {
        "id": "fwWP3QxYbCgA"
      },
      "source": [
        "The area under curve also increase now becomes 80% which means having the two highly corrleated featureas which are Sex_Numerical and pclass creates better model."
      ]
    },
    {
      "cell_type": "markdown",
      "metadata": {
        "id": "nF_5GcpIbgE6"
      },
      "source": [
        "4.   your summary and conclusions pertaining to how this model compares (performance, pros, cons, etc.) to the model you derived in Assignment #3 (via `LogisticRegression`)."
      ]
    },
    {
      "cell_type": "markdown",
      "metadata": {
        "id": "WhZb0i3-bhIC"
      },
      "source": [
        "Using Logistic Regression creates a better prediction model this is seen by having a greater area under the curve values for all the same features used in the Receiver Operating Characteristic. In addition, it also creates a better confusion matrix by having a higher value in both predicting yes/ actual yes and predicting no / actual no values. In conclusion, when it comes to predicting passenger survival on Titanic Logistic Regression shows better performance and prediction rate compared with naive Bayes classifier.  "
      ]
    }
  ]
}